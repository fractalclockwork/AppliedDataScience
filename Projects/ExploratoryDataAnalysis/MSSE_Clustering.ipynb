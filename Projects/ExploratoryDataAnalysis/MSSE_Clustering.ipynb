{
 "cells": [
  {
   "cell_type": "markdown",
   "id": "7c398105-47f7-4035-91d3-7c5948a265f7",
   "metadata": {},
   "source": [
    "# **MSSE Analysis**"
   ]
  },
  {
   "cell_type": "code",
   "execution_count": 1,
   "id": "7a5ae87c-3b2d-4b9e-91a4-8cebebaf6ba0",
   "metadata": {},
   "outputs": [],
   "source": [
    "import re\n",
    "import pandas as pd"
   ]
  },
  {
   "cell_type": "code",
   "execution_count": 2,
   "id": "1263703a-b773-414f-823f-6eecdc2ad21d",
   "metadata": {},
   "outputs": [],
   "source": [
    "filename = 'Data/msse_courses.txt'"
   ]
  },
  {
   "cell_type": "code",
   "execution_count": 3,
   "id": "8c053c2b-2a20-4e2c-88c0-cb6a5b473047",
   "metadata": {},
   "outputs": [],
   "source": [
    "with open(filename) as f:\n",
    "    lines = f.readlines()"
   ]
  },
  {
   "cell_type": "code",
   "execution_count": 4,
   "id": "427d55b8-b7c6-46e5-8411-2131dfd7da6d",
   "metadata": {},
   "outputs": [
    {
     "name": "stdout",
     "output_type": "stream",
     "text": [
      "CHEM 280\n",
      " Foundations of Programming and Software Engineering for Molecular Sciences\n",
      " This course provides an overview of topics relevant to programming and creating software projects. The course will be taught in collaboration with members of the Molecular Sciences Software Institute (MolSII). Students will learn basic syntax, use cases, and ecosystems for Python and C++. Students will become familiar with tools and practices commonly used in software development such as version control, documentation, and testing. Central to this course is a hands-on molecular simulation project where students work in groups to create a software package using concepts taught in the course.\n",
      " 2\n",
      "CHEM 274A\n",
      " Programming Languages for Molecular Sciences: Python and C++\n",
      " This course provides in-depth coverage of programming concepts and techniques required for scientific computing, data science, and high-performance computing using C++ and Python. The course will compare and contrast the functionalities of the two languages. Topics include classes, overloading, data abstraction, information hiding, encapsulation, file processing, exceptions, and low-level language features. Numerous exercises based on molecular science problems will provide the hands-on experience needed to learn these languages. This course serves as a prerequisite to later MSSE courses: Data Science, Machine Learning Algorithms, Software Engineering for Scientific Computing, Numerical Algorithms Applied to Computational Quantum Chemistry, and Applications of Parallel Computers.\n",
      " 3\n",
      "CHEM 274B \n",
      " Software Engineering Fundamentals for Molecular Sciences \n",
      " This course will advance students' understanding of fundamental knowledge and techniques for developing complex software. Students will gain an in-depth view of computer system architecture as well as abstraction techniques as means to manage program complexity. Students will collaboratively develop a software engineering package, thus gaining experience in all aspects of the software development process from the feasibility study to the final delivery of the product. This course is a prerequisite to most MSSE courses.\n",
      " 3\n",
      "DATA 200S\n",
      " Principles and Techniques of Data Science\n",
      " Explores the data science lifecycle: question formulation, data collection and cleaning, exploratory, analysis, visualization, statistical inference, prediction, and decision-making. Focuses on quantitative critical thinking and key principles and techniques: languages for transforming, querying, and analyzing data; algorithms for machine learning methods: regression, classification, and clustering; principles of informative visualization; measurement error and prediction; and techniques for scalable data processing. Research term project.\n",
      " 3\n",
      "CHEM 278\n",
      " Ethics in Molecular Science and Software Engineering \n",
      " This course will expose students to applied ethics in professional ethics, information technology, intellectual property, and corporate ethics.\n",
      " 1\n",
      "CHEM 277B\n",
      " Machine Learning Algorithms\n",
      " An introduction to mathematical optimization and statistics and \"nonalgorithmic\" computation using machine learning. Machine learning prerequisites are introduced including local and global optimization, various statistical and clustering models, and early metaheuristic methods such as genetic algorithms and artificial neural networks. Building on this foundation, current machine learning techniques are covered including Deep Learning networks, Convolutional neural networks, Recurrent and long short-term memory (LSTM) networks, and support vector machines and Gaussian ridge regression. Various case studies in applying optimization, statistical modeling, and machine learning methods as classification and regression tasks in different scientific software areas.\n",
      " 3\n",
      "CHEM 281\n",
      " Software Engineering for Scientific Computing \n",
      " The course covers computer architecture and software features that have the greatest impact on performance. It addresses debugging and performance tuning, detecting memory and stack overwrites, malloc corruption, hotspot, paging, and cache misses. A toolbox with common algorithms: sorting, searching, hashing, trees, and graph traversing is followed by common patterns used in object-oriented design. It describes programming paradigms, dynamic libraries, distributed architectures, and services. Lectures on linear algebra and performance libraries are provided as background for future courses. HPC paradigms and GPU programming are introduced. Software packaging, extensibility, and interactivity are followed by team development, testing, and hardening.\n",
      " 3\n",
      "CHEM 279\n",
      " Numerical Algorithms applied to Computational Quantum Chemistry \n",
      " An introduction to numerical algorithms, their application to computational quantum chemistry, and best practices for software implementation, and reuse. This course covers a toolbox of useful algorithms from applied mathematics that are used in physical simulations. They are illustrated via computer implementation of density functional theory for modeling chemical reaction mechanisms from quantum mechanics. Topics covered include local optimization, numerical derivatives, and numerical integration, dense linear algebra, the symmetric eigenvalue problem, the singular value decomposition, and the fast Fourier transform. More specialized topics as time permits. Students are guided through principles of procedural and object-oriented programming in C++, as well as the usage of efficient numerical libraries.\n",
      " 3\n",
      "COMPSCI C267\n",
      " Applications of Parallel Computers\n",
      " Models for parallel programming. Overview of parallelism in scientific applications and study of parallel algorithms for linear algebra, particles, meshes, sorting, FFT, graphs, machine learning, etc. Survey of parallel machines and machine structures. Programming shared- and distributed-memory parallel computers, GPUs, and cloud platforms. Parallel programming languages, compilers, libraries, and toolboxes. Data partitioning techniques. Techniques for synchronization and load balancing. Detailed study and algorithm/program development of medium-sized applications.\n",
      " 3\n",
      "CHEM 283\n",
      " MSSE Capstone Project\n",
      " The main course objective is to provide MSSE students with a multifaceted experience managing a project of their choice involving the application and development of high-end computational software for Computational Sciences with an emphasis on Molecular Sciences. Students will exercise their leadership and team-building skills through individual class assignments, peer reviews, and a final Capstone project report. This course is designed to provide students with tools and practices for designing project deliverables, planning and meeting project deadlines, giving presentations, writing technical communications, and providing constructive feedback to peers. They will be supervised to complete building a professional MSSE software portfolio, which meets the best software engineering practices.\n",
      " 3\n",
      "CHEM 282\n",
      " Leadership Bootcamp\n",
      " This boot camp for the Master of Molecular Science and Software Engineering program is a two-week intensive course that introduces program participants to the leadership, management, and entrepreneurial skills necessary in today’s professional environment. Using the capstone project as a baseline, this course aims to provide program participants an understanding of the key aspects of management and leadership disciplines; team and organization dynamics; leading and participating in cross-functional teams; engineering economic, finance, and accounting concepts; effective communication skills, and project management.\n",
      " 2\n"
     ]
    }
   ],
   "source": [
    "# Parse that text\n",
    "df = pd.DataFrame(columns=('Course Number', 'Course Title', 'Description', 'Units'))\n",
    "c_num, c_title, c_describe, c_units = [],[],[],[]\n",
    "\n",
    "i=0\n",
    "for line in lines:\n",
    "    m = re.match(r'(\\w*\\s\\w?\\d*\\w?\\s?):\\s*(\\w[\\w: ]*[\\w+]*) [\\s\\t]*(.*)$', line)\n",
    "    if m != None:\n",
    "        #print(m.group(1), m.group(2), m.group(3))\n",
    "        c_num, c_title, c_describe = m.group(1), m.group(2), m.group(3)\n",
    "    m = re.search(r'View Syllabus\\s*(\\d*)', line)\n",
    "    if m != None:\n",
    "        #print(m.group(1))\n",
    "        c_units = m.group(1)\n",
    "        print(f'{c_num}\\n {c_title}\\n {c_describe}\\n {c_units}')\n",
    "        df.loc[i] = [c_num, c_title, c_describe, c_units]\n",
    "        i+=1"
   ]
  },
  {
   "cell_type": "code",
   "execution_count": 5,
   "id": "617287aa-981c-4c84-80fa-72fa6421806c",
   "metadata": {},
   "outputs": [
    {
     "data": {
      "text/plain": [
       "'Principles and Techniques of Data Science'"
      ]
     },
     "metadata": {},
     "output_type": "display_data"
    }
   ],
   "source": [
    "display(df.iloc[3]['Course Title'])"
   ]
  },
  {
   "cell_type": "code",
   "execution_count": 6,
   "id": "c4e78b09-6ca5-44c6-a127-eb8445459917",
   "metadata": {},
   "outputs": [
    {
     "data": {
      "text/html": [
       "<div>\n",
       "<style scoped>\n",
       "    .dataframe tbody tr th:only-of-type {\n",
       "        vertical-align: middle;\n",
       "    }\n",
       "\n",
       "    .dataframe tbody tr th {\n",
       "        vertical-align: top;\n",
       "    }\n",
       "\n",
       "    .dataframe thead th {\n",
       "        text-align: right;\n",
       "    }\n",
       "</style>\n",
       "<table border=\"1\" class=\"dataframe\">\n",
       "  <thead>\n",
       "    <tr style=\"text-align: right;\">\n",
       "      <th></th>\n",
       "      <th>Course Number</th>\n",
       "      <th>Course Title</th>\n",
       "      <th>Description</th>\n",
       "      <th>Units</th>\n",
       "    </tr>\n",
       "  </thead>\n",
       "  <tbody>\n",
       "    <tr>\n",
       "      <th>0</th>\n",
       "      <td>CHEM 280</td>\n",
       "      <td>Foundations of Programming and Software Engine...</td>\n",
       "      <td>This course provides an overview of topics rel...</td>\n",
       "      <td>2</td>\n",
       "    </tr>\n",
       "    <tr>\n",
       "      <th>1</th>\n",
       "      <td>CHEM 274A</td>\n",
       "      <td>Programming Languages for Molecular Sciences: ...</td>\n",
       "      <td>This course provides in-depth coverage of prog...</td>\n",
       "      <td>3</td>\n",
       "    </tr>\n",
       "    <tr>\n",
       "      <th>2</th>\n",
       "      <td>CHEM 274B</td>\n",
       "      <td>Software Engineering Fundamentals for Molecula...</td>\n",
       "      <td>This course will advance students' understandi...</td>\n",
       "      <td>3</td>\n",
       "    </tr>\n",
       "    <tr>\n",
       "      <th>3</th>\n",
       "      <td>DATA 200S</td>\n",
       "      <td>Principles and Techniques of Data Science</td>\n",
       "      <td>Explores the data science lifecycle: question ...</td>\n",
       "      <td>3</td>\n",
       "    </tr>\n",
       "    <tr>\n",
       "      <th>4</th>\n",
       "      <td>CHEM 278</td>\n",
       "      <td>Ethics in Molecular Science and Software Engin...</td>\n",
       "      <td>This course will expose students to applied et...</td>\n",
       "      <td>1</td>\n",
       "    </tr>\n",
       "  </tbody>\n",
       "</table>\n",
       "</div>"
      ],
      "text/plain": [
       "  Course Number                                       Course Title  \\\n",
       "0      CHEM 280  Foundations of Programming and Software Engine...   \n",
       "1     CHEM 274A  Programming Languages for Molecular Sciences: ...   \n",
       "2    CHEM 274B   Software Engineering Fundamentals for Molecula...   \n",
       "3     DATA 200S          Principles and Techniques of Data Science   \n",
       "4      CHEM 278  Ethics in Molecular Science and Software Engin...   \n",
       "\n",
       "                                         Description Units  \n",
       "0  This course provides an overview of topics rel...     2  \n",
       "1  This course provides in-depth coverage of prog...     3  \n",
       "2  This course will advance students' understandi...     3  \n",
       "3  Explores the data science lifecycle: question ...     3  \n",
       "4  This course will expose students to applied et...     1  "
      ]
     },
     "execution_count": 6,
     "metadata": {},
     "output_type": "execute_result"
    }
   ],
   "source": [
    "df_msse = df.copy()\n",
    "df_msse.head()"
   ]
  },
  {
   "cell_type": "code",
   "execution_count": 7,
   "id": "e01a90f8-62dc-4db2-b8c0-28da79057ae1",
   "metadata": {},
   "outputs": [],
   "source": [
    "# import other libs\n",
    "import numpy as np\n",
    "from sklearn.feature_extraction.text import TfidfVectorizer\n",
    "from sklearn.cluster import KMeans\n",
    "from sklearn.decomposition import PCA\n",
    "\n",
    "# string manipulation libs\n",
    "import re\n",
    "import string\n",
    "import nltk\n",
    "from nltk.corpus import stopwords\n",
    "\n",
    "# viz libs\n",
    "import matplotlib.pyplot as plt\n",
    "import seaborn as sns"
   ]
  },
  {
   "cell_type": "code",
   "execution_count": 8,
   "id": "d6b24423-b3e5-46ee-adef-30fdf5c2655b",
   "metadata": {},
   "outputs": [],
   "source": [
    "# create our corpus\n",
    "df = pd.DataFrame(df_msse['Description'])\n",
    "df['corpus']=df.Description\n",
    "df['num']=df_msse['Course Number']\n",
    "df.drop(columns='Description', inplace=True)"
   ]
  },
  {
   "cell_type": "code",
   "execution_count": 9,
   "id": "c831cef5-b43c-4fe9-96eb-87918db861a6",
   "metadata": {},
   "outputs": [
    {
     "data": {
      "text/plain": [
       "['i', 'me', 'my', 'myself', 'we', 'our', 'ours', 'ourselves', 'you', \"you're\"]"
      ]
     },
     "execution_count": 9,
     "metadata": {},
     "output_type": "execute_result"
    }
   ],
   "source": [
    "#nltk.download('stopwords')\n",
    "stopwords.words(\"english\")[:10] "
   ]
  },
  {
   "cell_type": "code",
   "execution_count": 10,
   "id": "72143f6c-c2fb-42aa-ad07-91b67479abf4",
   "metadata": {},
   "outputs": [],
   "source": [
    "def preprocess_text(text: str, remove_stopwords: bool) -> str:\n",
    "    \"\"\"This utility function sanitizes a string by:\n",
    "    - removing links\n",
    "    - removing special characters\n",
    "    - removing numbers\n",
    "    - removing stopwords\n",
    "    - transforming in lowercase\n",
    "    - removing excessive whitespaces\n",
    "    Args:\n",
    "        text (str): the input text you want to clean\n",
    "        remove_stopwords (bool): whether or not to remove stopwords\n",
    "    Returns:\n",
    "        str: the cleaned text\n",
    "    \"\"\"\n",
    "\n",
    "    # remove links\n",
    "    text = re.sub(r\"http\\S+\", \"\", text)\n",
    "    # remove special chars and numbers\n",
    "    text = re.sub(\"[^A-Za-z]+\", \" \", text)\n",
    "    # remove stopwords\n",
    "    if remove_stopwords:\n",
    "        # 1. tokenize\n",
    "        tokens = nltk.word_tokenize(text)\n",
    "        # 2. check if stopword\n",
    "        tokens = [w for w in tokens if not w.lower() in stopwords.words(\"english\")]\n",
    "        # 3. join back together\n",
    "        text = \" \".join(tokens)\n",
    "    # return text in lower case and stripped of whitespaces\n",
    "    text = text.lower().strip()\n",
    "    return text"
   ]
  },
  {
   "cell_type": "code",
   "execution_count": 11,
   "id": "c4990f3c-1fa7-4f17-9544-0e4239e625af",
   "metadata": {},
   "outputs": [],
   "source": [
    "df['cleaned'] = df['corpus'].apply(lambda x: preprocess_text(x, remove_stopwords=True))"
   ]
  },
  {
   "cell_type": "code",
   "execution_count": 12,
   "id": "fd4462fb-3c49-4edb-8c08-aa6d477bfe27",
   "metadata": {},
   "outputs": [
    {
     "data": {
      "text/html": [
       "<div>\n",
       "<style scoped>\n",
       "    .dataframe tbody tr th:only-of-type {\n",
       "        vertical-align: middle;\n",
       "    }\n",
       "\n",
       "    .dataframe tbody tr th {\n",
       "        vertical-align: top;\n",
       "    }\n",
       "\n",
       "    .dataframe thead th {\n",
       "        text-align: right;\n",
       "    }\n",
       "</style>\n",
       "<table border=\"1\" class=\"dataframe\">\n",
       "  <thead>\n",
       "    <tr style=\"text-align: right;\">\n",
       "      <th></th>\n",
       "      <th>corpus</th>\n",
       "      <th>num</th>\n",
       "      <th>cleaned</th>\n",
       "    </tr>\n",
       "  </thead>\n",
       "  <tbody>\n",
       "    <tr>\n",
       "      <th>0</th>\n",
       "      <td>This course provides an overview of topics rel...</td>\n",
       "      <td>CHEM 280</td>\n",
       "      <td>course provides overview topics relevant progr...</td>\n",
       "    </tr>\n",
       "    <tr>\n",
       "      <th>1</th>\n",
       "      <td>This course provides in-depth coverage of prog...</td>\n",
       "      <td>CHEM 274A</td>\n",
       "      <td>course provides depth coverage programming con...</td>\n",
       "    </tr>\n",
       "    <tr>\n",
       "      <th>2</th>\n",
       "      <td>This course will advance students' understandi...</td>\n",
       "      <td>CHEM 274B</td>\n",
       "      <td>course advance students understanding fundamen...</td>\n",
       "    </tr>\n",
       "    <tr>\n",
       "      <th>3</th>\n",
       "      <td>Explores the data science lifecycle: question ...</td>\n",
       "      <td>DATA 200S</td>\n",
       "      <td>explores data science lifecycle question formu...</td>\n",
       "    </tr>\n",
       "    <tr>\n",
       "      <th>4</th>\n",
       "      <td>This course will expose students to applied et...</td>\n",
       "      <td>CHEM 278</td>\n",
       "      <td>course expose students applied ethics professi...</td>\n",
       "    </tr>\n",
       "  </tbody>\n",
       "</table>\n",
       "</div>"
      ],
      "text/plain": [
       "                                              corpus         num  \\\n",
       "0  This course provides an overview of topics rel...    CHEM 280   \n",
       "1  This course provides in-depth coverage of prog...   CHEM 274A   \n",
       "2  This course will advance students' understandi...  CHEM 274B    \n",
       "3  Explores the data science lifecycle: question ...   DATA 200S   \n",
       "4  This course will expose students to applied et...    CHEM 278   \n",
       "\n",
       "                                             cleaned  \n",
       "0  course provides overview topics relevant progr...  \n",
       "1  course provides depth coverage programming con...  \n",
       "2  course advance students understanding fundamen...  \n",
       "3  explores data science lifecycle question formu...  \n",
       "4  course expose students applied ethics professi...  "
      ]
     },
     "execution_count": 12,
     "metadata": {},
     "output_type": "execute_result"
    }
   ],
   "source": [
    "df.head()"
   ]
  },
  {
   "cell_type": "code",
   "execution_count": 13,
   "id": "605ca04e-11f3-485e-97cb-6e1d573c94cd",
   "metadata": {},
   "outputs": [
    {
     "data": {
      "text/plain": [
       "\"\\n# Let's give our groups a chance\\ndf['cleaned2'] = df['cleaned'].apply(lambda x: preprocess_text_drop(x, remove_stopwords=True))\\ndf['cleaned'] = df['cleaned2'] \\ndf.drop(columns='cleaned2', inplace=True)\\ndf.head()\\n\""
      ]
     },
     "execution_count": 13,
     "metadata": {},
     "output_type": "execute_result"
    }
   ],
   "source": [
    "# not much information content yet... let's drop some these terms\n",
    "drop_list = 'students,techniques,course,algorithms,development,software,programming,well,covers,final,study,term'.split(',')\n",
    "\n",
    "def preprocess_text_drop(text: str, remove_stopwords: bool) -> str:\n",
    "    \"\"\"This utility function sanitizes a string by:\n",
    "    - removing links\n",
    "    - removing special characters\n",
    "    - removing numbers\n",
    "    - removing stopwords\n",
    "    - transforming in lowercase\n",
    "    - removing excessive whitespaces\n",
    "    Args:\n",
    "        text (str): the input text you want to clean\n",
    "        remove_stopwords (bool): whether or not to remove stopwords\n",
    "    Returns:\n",
    "        str: the cleaned text\n",
    "    \"\"\"\n",
    "\n",
    "    # remove links\n",
    "    text = re.sub(r\"http\\S+\", \"\", text)\n",
    "    # remove special chars and numbers\n",
    "    text = re.sub(\"[^A-Za-z]+\", \" \", text)\n",
    "    # remove stopwords\n",
    "    if remove_stopwords:\n",
    "        # 1. tokenize\n",
    "        tokens = nltk.word_tokenize(text)\n",
    "        # 2. check if stopword\n",
    "        tokens = [w for w in tokens if not w.lower() in drop_list]\n",
    "        # 3. join back together\n",
    "        text = \" \".join(tokens)\n",
    "    # return text in lower case and stripped of whitespaces\n",
    "    text = text.lower().strip()\n",
    "    return text\n",
    "'''\n",
    "# Let's give our groups a chance\n",
    "df['cleaned2'] = df['cleaned'].apply(lambda x: preprocess_text_drop(x, remove_stopwords=True))\n",
    "df['cleaned'] = df['cleaned2'] \n",
    "df.drop(columns='cleaned2', inplace=True)\n",
    "df.head()\n",
    "'''"
   ]
  },
  {
   "cell_type": "code",
   "execution_count": 14,
   "id": "5cc499a5-ab4a-4507-b0ec-074936571642",
   "metadata": {},
   "outputs": [],
   "source": [
    "# initialize the vectorizer\n",
    "vectorizer = TfidfVectorizer(sublinear_tf=True, min_df=2, max_df=0.95)\n",
    "# fit_transform applies TF-IDF to clean texts - we save the array of vectors in X\n",
    "X = vectorizer.fit_transform(df['cleaned'])"
   ]
  },
  {
   "cell_type": "code",
   "execution_count": 15,
   "id": "8d11b0de-a07e-4eb5-8d49-26500af3c0cb",
   "metadata": {},
   "outputs": [],
   "source": [
    "# initialize kmeans with 3 centroids\n",
    "n_clusters=4\n",
    "kmeans = KMeans(n_clusters=n_clusters, random_state=42, n_init='auto')\n",
    "# fit the model\n",
    "kmeans.fit(X)\n",
    "# store cluster labels in a variable\n",
    "clusters = kmeans.labels_"
   ]
  },
  {
   "cell_type": "code",
   "execution_count": 16,
   "id": "6a59d73e-1204-4938-b1c6-d64b3b891994",
   "metadata": {},
   "outputs": [],
   "source": [
    "# initialize PCA with 2 components\n",
    "pca = PCA(n_components=2, random_state=42)\n",
    "# pass our X to the pca and store the reduced vectors into pca_vecs\n",
    "pca_vecs = pca.fit_transform(X.toarray())\n",
    "# save our two dimensions into x0 and x1\n",
    "x0 = pca_vecs[:, 0]\n",
    "x1 = pca_vecs[:, 1]"
   ]
  },
  {
   "cell_type": "code",
   "execution_count": 17,
   "id": "be75a704-5f9f-44a1-ab62-07ef1ceedc1a",
   "metadata": {},
   "outputs": [
    {
     "name": "stdout",
     "output_type": "stream",
     "text": [
      "\n",
      "Cluster 0\n",
      "linear,computer,programming,toolbox,oriented,covers,object,numerical,performance,libraries\n",
      "\n",
      "Cluster 1\n",
      "molecular,data,applications,professional,programming,applied,parallel,information,students,course\n",
      "\n",
      "Cluster 2\n",
      "techniques,classification,clustering,term,data,machine,regression,statistical,methods,learning\n",
      "\n",
      "Cluster 3\n",
      "provide,msse,skills,leadership,course,software,program,engineering,students,project\n"
     ]
    }
   ],
   "source": [
    "def get_top_keywords(n_terms):\n",
    "    \"\"\"This function returns the keywords for each centroid of the KMeans\"\"\"\n",
    "    df = pd.DataFrame(X.todense()).groupby(clusters).mean() # groups the TF-IDF vector by cluster\n",
    "    terms = vectorizer.get_feature_names_out() # access tf-idf terms\n",
    "    for i,r in df.iterrows():\n",
    "        print('\\nCluster {}'.format(i))\n",
    "        print(','.join([terms[t] for t in np.argsort(r)[-n_terms:]])) # for each row of the dataframe, find the n terms that have the highest tf idf score\n",
    "            \n",
    "get_top_keywords(10)"
   ]
  },
  {
   "cell_type": "code",
   "execution_count": 18,
   "id": "e09aeeee-2a8b-4a22-bb8f-9a034c20ba2d",
   "metadata": {},
   "outputs": [],
   "source": [
    "# assign clusters and pca vectors to our dataframe \n",
    "df['cluster'] = clusters\n",
    "df['x0'] = x0\n",
    "df['x1'] = x1"
   ]
  },
  {
   "cell_type": "code",
   "execution_count": 19,
   "id": "35ec6acd-faba-43f5-a43d-584ee760ea9a",
   "metadata": {},
   "outputs": [],
   "source": [
    "# map clusters to appropriate labels \n",
    "#cluster_map = {0: \"sport\", 1: \"tech\", 2: \"religion\"}\n",
    "cluster_map = {}\n",
    "for i in range(n_clusters):\n",
    "    cluster_map[i]=f'Cluster {i}'\n",
    "# apply mapping\n",
    "df['cluster'] = df['cluster'].map(cluster_map)"
   ]
  },
  {
   "cell_type": "code",
   "execution_count": 27,
   "id": "1abd6363-0031-4963-93e1-eb5043d8e13d",
   "metadata": {},
   "outputs": [
    {
     "data": {
      "image/png": "[encoded data removed]",
      "text/plain": [
       "<Figure size 1200x700 with 1 Axes>"
      ]
     },
     "metadata": {},
     "output_type": "display_data"
    }
   ],
   "source": [
    "# set image size\n",
    "plt.figure(figsize=(12, 7))\n",
    "# set a title\n",
    "plt.title(\"MSSE Courses by TF-IDF + KMeans clustering\", fontdict={\"fontsize\": 18})\n",
    "# set axes names\n",
    "plt.xlabel(\"X0\", fontdict={\"fontsize\": 16})\n",
    "plt.ylabel(\"X1\", fontdict={\"fontsize\": 16})\n",
    "# create scatter plot with seaborn, where hue is the class used to group the data\n",
    "p1=sns.scatterplot(data=df, x='x0', y='x1', hue='cluster', palette=\"tab10\")\n",
    "\n",
    "for line in range(0,df.shape[0]):\n",
    "     p1.text(df.x0[line]+0.01, df.x1[line], \n",
    "     df.num[line], horizontalalignment='left', \n",
    "     size='medium', color='black', weight='semibold')\n",
    "\n",
    "plt.show()\n",
    "pd.set_option('display.max_colwidth', None)"
   ]
  },
  {
   "cell_type": "code",
   "execution_count": 21,
   "id": "0448fe88-baa7-4c62-8a72-2d32156a4a48",
   "metadata": {},
   "outputs": [
    {
     "data": {
      "text/html": [
       "<div>\n",
       "<style scoped>\n",
       "    .dataframe tbody tr th:only-of-type {\n",
       "        vertical-align: middle;\n",
       "    }\n",
       "\n",
       "    .dataframe tbody tr th {\n",
       "        vertical-align: top;\n",
       "    }\n",
       "\n",
       "    .dataframe thead th {\n",
       "        text-align: right;\n",
       "    }\n",
       "</style>\n",
       "<table border=\"1\" class=\"dataframe\">\n",
       "  <thead>\n",
       "    <tr style=\"text-align: right;\">\n",
       "      <th></th>\n",
       "      <th>Course Number</th>\n",
       "      <th>Course Title</th>\n",
       "      <th>Description</th>\n",
       "      <th>Units</th>\n",
       "    </tr>\n",
       "  </thead>\n",
       "  <tbody>\n",
       "    <tr>\n",
       "      <th>2</th>\n",
       "      <td>CHEM 274B</td>\n",
       "      <td>Software Engineering Fundamentals for Molecular Sciences</td>\n",
       "      <td>This course will advance students' understanding of fundamental knowledge and techniques for developing complex software. Students will gain an in-depth view of computer system architecture as well as abstraction techniques as means to manage program complexity. Students will collaboratively develop a software engineering package, thus gaining experience in all aspects of the software development process from the feasibility study to the final delivery of the product. This course is a prerequisite to most MSSE courses.</td>\n",
       "      <td>3</td>\n",
       "    </tr>\n",
       "    <tr>\n",
       "      <th>9</th>\n",
       "      <td>CHEM 283</td>\n",
       "      <td>MSSE Capstone Project</td>\n",
       "      <td>The main course objective is to provide MSSE students with a multifaceted experience managing a project of their choice involving the application and development of high-end computational software for Computational Sciences with an emphasis on Molecular Sciences. Students will exercise their leadership and team-building skills through individual class assignments, peer reviews, and a final Capstone project report. This course is designed to provide students with tools and practices for designing project deliverables, planning and meeting project deadlines, giving presentations, writing technical communications, and providing constructive feedback to peers. They will be supervised to complete building a professional MSSE software portfolio, which meets the best software engineering practices.</td>\n",
       "      <td>3</td>\n",
       "    </tr>\n",
       "    <tr>\n",
       "      <th>10</th>\n",
       "      <td>CHEM 282</td>\n",
       "      <td>Leadership Bootcamp</td>\n",
       "      <td>This boot camp for the Master of Molecular Science and Software Engineering program is a two-week intensive course that introduces program participants to the leadership, management, and entrepreneurial skills necessary in today’s professional environment. Using the capstone project as a baseline, this course aims to provide program participants an understanding of the key aspects of management and leadership disciplines; team and organization dynamics; leading and participating in cross-functional teams; engineering economic, finance, and accounting concepts; effective communication skills, and project management.</td>\n",
       "      <td>2</td>\n",
       "    </tr>\n",
       "  </tbody>\n",
       "</table>\n",
       "</div>"
      ],
      "text/plain": [
       "   Course Number                                               Course Title  \\\n",
       "2     CHEM 274B   Software Engineering Fundamentals for Molecular Sciences    \n",
       "9       CHEM 283                                      MSSE Capstone Project   \n",
       "10      CHEM 282                                        Leadership Bootcamp   \n",
       "\n",
       "                                                                                                                                                                                                                                                                                                                                                                                                                                                                                                                                                                                                                                                                                                                                                                                                                           Description  \\\n",
       "2                                                                                                                                                                                                                                                                                         This course will advance students' understanding of fundamental knowledge and techniques for developing complex software. Students will gain an in-depth view of computer system architecture as well as abstraction techniques as means to manage program complexity. Students will collaboratively develop a software engineering package, thus gaining experience in all aspects of the software development process from the feasibility study to the final delivery of the product. This course is a prerequisite to most MSSE courses.   \n",
       "9   The main course objective is to provide MSSE students with a multifaceted experience managing a project of their choice involving the application and development of high-end computational software for Computational Sciences with an emphasis on Molecular Sciences. Students will exercise their leadership and team-building skills through individual class assignments, peer reviews, and a final Capstone project report. This course is designed to provide students with tools and practices for designing project deliverables, planning and meeting project deadlines, giving presentations, writing technical communications, and providing constructive feedback to peers. They will be supervised to complete building a professional MSSE software portfolio, which meets the best software engineering practices.   \n",
       "10                                                                                                                                                                                      This boot camp for the Master of Molecular Science and Software Engineering program is a two-week intensive course that introduces program participants to the leadership, management, and entrepreneurial skills necessary in today’s professional environment. Using the capstone project as a baseline, this course aims to provide program participants an understanding of the key aspects of management and leadership disciplines; team and organization dynamics; leading and participating in cross-functional teams; engineering economic, finance, and accounting concepts; effective communication skills, and project management.   \n",
       "\n",
       "   Units  \n",
       "2      3  \n",
       "9      3  \n",
       "10     2  "
      ]
     },
     "execution_count": 21,
     "metadata": {},
     "output_type": "execute_result"
    }
   ],
   "source": [
    "df_msse[df_msse['Course Number'].isin(['CHEM 282', 'CHEM 283', 'CHEM 274B '])]"
   ]
  },
  {
   "cell_type": "code",
   "execution_count": 22,
   "id": "93ef1e17-78b4-4e9a-bb9a-700a76d2502d",
   "metadata": {},
   "outputs": [
    {
     "data": {
      "text/html": [
       "<div>\n",
       "<style scoped>\n",
       "    .dataframe tbody tr th:only-of-type {\n",
       "        vertical-align: middle;\n",
       "    }\n",
       "\n",
       "    .dataframe tbody tr th {\n",
       "        vertical-align: top;\n",
       "    }\n",
       "\n",
       "    .dataframe thead th {\n",
       "        text-align: right;\n",
       "    }\n",
       "</style>\n",
       "<table border=\"1\" class=\"dataframe\">\n",
       "  <thead>\n",
       "    <tr style=\"text-align: right;\">\n",
       "      <th></th>\n",
       "      <th>Course Number</th>\n",
       "      <th>Course Title</th>\n",
       "      <th>Description</th>\n",
       "      <th>Units</th>\n",
       "    </tr>\n",
       "  </thead>\n",
       "  <tbody>\n",
       "    <tr>\n",
       "      <th>0</th>\n",
       "      <td>CHEM 280</td>\n",
       "      <td>Foundations of Programming and Software Engineering for Molecular Sciences</td>\n",
       "      <td>This course provides an overview of topics relevant to programming and creating software projects. The course will be taught in collaboration with members of the Molecular Sciences Software Institute (MolSII). Students will learn basic syntax, use cases, and ecosystems for Python and C++. Students will become familiar with tools and practices commonly used in software development such as version control, documentation, and testing. Central to this course is a hands-on molecular simulation project where students work in groups to create a software package using concepts taught in the course.</td>\n",
       "      <td>2</td>\n",
       "    </tr>\n",
       "    <tr>\n",
       "      <th>1</th>\n",
       "      <td>CHEM 274A</td>\n",
       "      <td>Programming Languages for Molecular Sciences: Python and C++</td>\n",
       "      <td>This course provides in-depth coverage of programming concepts and techniques required for scientific computing, data science, and high-performance computing using C++ and Python. The course will compare and contrast the functionalities of the two languages. Topics include classes, overloading, data abstraction, information hiding, encapsulation, file processing, exceptions, and low-level language features. Numerous exercises based on molecular science problems will provide the hands-on experience needed to learn these languages. This course serves as a prerequisite to later MSSE courses: Data Science, Machine Learning Algorithms, Software Engineering for Scientific Computing, Numerical Algorithms Applied to Computational Quantum Chemistry, and Applications of Parallel Computers.</td>\n",
       "      <td>3</td>\n",
       "    </tr>\n",
       "    <tr>\n",
       "      <th>4</th>\n",
       "      <td>CHEM 278</td>\n",
       "      <td>Ethics in Molecular Science and Software Engineering</td>\n",
       "      <td>This course will expose students to applied ethics in professional ethics, information technology, intellectual property, and corporate ethics.</td>\n",
       "      <td>1</td>\n",
       "    </tr>\n",
       "    <tr>\n",
       "      <th>8</th>\n",
       "      <td>COMPSCI C267</td>\n",
       "      <td>Applications of Parallel Computers</td>\n",
       "      <td>Models for parallel programming. Overview of parallelism in scientific applications and study of parallel algorithms for linear algebra, particles, meshes, sorting, FFT, graphs, machine learning, etc. Survey of parallel machines and machine structures. Programming shared- and distributed-memory parallel computers, GPUs, and cloud platforms. Parallel programming languages, compilers, libraries, and toolboxes. Data partitioning techniques. Techniques for synchronization and load balancing. Detailed study and algorithm/program development of medium-sized applications.</td>\n",
       "      <td>3</td>\n",
       "    </tr>\n",
       "  </tbody>\n",
       "</table>\n",
       "</div>"
      ],
      "text/plain": [
       "  Course Number  \\\n",
       "0      CHEM 280   \n",
       "1     CHEM 274A   \n",
       "4      CHEM 278   \n",
       "8  COMPSCI C267   \n",
       "\n",
       "                                                                 Course Title  \\\n",
       "0  Foundations of Programming and Software Engineering for Molecular Sciences   \n",
       "1                Programming Languages for Molecular Sciences: Python and C++   \n",
       "4                       Ethics in Molecular Science and Software Engineering    \n",
       "8                                          Applications of Parallel Computers   \n",
       "\n",
       "                                                                                                                                                                                                                                                                                                                                                                                                                                                                                                                                                                                                                                                                                                                                                                                                              Description  \\\n",
       "0                                                                                                                                                                                                   This course provides an overview of topics relevant to programming and creating software projects. The course will be taught in collaboration with members of the Molecular Sciences Software Institute (MolSII). Students will learn basic syntax, use cases, and ecosystems for Python and C++. Students will become familiar with tools and practices commonly used in software development such as version control, documentation, and testing. Central to this course is a hands-on molecular simulation project where students work in groups to create a software package using concepts taught in the course.   \n",
       "1  This course provides in-depth coverage of programming concepts and techniques required for scientific computing, data science, and high-performance computing using C++ and Python. The course will compare and contrast the functionalities of the two languages. Topics include classes, overloading, data abstraction, information hiding, encapsulation, file processing, exceptions, and low-level language features. Numerous exercises based on molecular science problems will provide the hands-on experience needed to learn these languages. This course serves as a prerequisite to later MSSE courses: Data Science, Machine Learning Algorithms, Software Engineering for Scientific Computing, Numerical Algorithms Applied to Computational Quantum Chemistry, and Applications of Parallel Computers.   \n",
       "4                                                                                                                                                                                                                                                                                                                                                                                                                                                                                                                                                                                                                                                                         This course will expose students to applied ethics in professional ethics, information technology, intellectual property, and corporate ethics.   \n",
       "8                                                                                                                                                                                                                             Models for parallel programming. Overview of parallelism in scientific applications and study of parallel algorithms for linear algebra, particles, meshes, sorting, FFT, graphs, machine learning, etc. Survey of parallel machines and machine structures. Programming shared- and distributed-memory parallel computers, GPUs, and cloud platforms. Parallel programming languages, compilers, libraries, and toolboxes. Data partitioning techniques. Techniques for synchronization and load balancing. Detailed study and algorithm/program development of medium-sized applications.   \n",
       "\n",
       "  Units  \n",
       "0     2  \n",
       "1     3  \n",
       "4     1  \n",
       "8     3  "
      ]
     },
     "execution_count": 22,
     "metadata": {},
     "output_type": "execute_result"
    }
   ],
   "source": [
    "df_msse[df_msse['Course Number'].isin(['CHEM 280', 'CHEM 278', 'CHEM 274A', 'COMPSCI C267'])]"
   ]
  },
  {
   "cell_type": "code",
   "execution_count": 28,
   "id": "5f25deb1-8f63-46aa-ae9d-e528668da087",
   "metadata": {},
   "outputs": [
    {
     "data": {
      "text/html": [
       "<div>\n",
       "<style scoped>\n",
       "    .dataframe tbody tr th:only-of-type {\n",
       "        vertical-align: middle;\n",
       "    }\n",
       "\n",
       "    .dataframe tbody tr th {\n",
       "        vertical-align: top;\n",
       "    }\n",
       "\n",
       "    .dataframe thead th {\n",
       "        text-align: right;\n",
       "    }\n",
       "</style>\n",
       "<table border=\"1\" class=\"dataframe\">\n",
       "  <thead>\n",
       "    <tr style=\"text-align: right;\">\n",
       "      <th></th>\n",
       "      <th>Course Number</th>\n",
       "      <th>Course Title</th>\n",
       "      <th>Description</th>\n",
       "      <th>Units</th>\n",
       "    </tr>\n",
       "  </thead>\n",
       "  <tbody>\n",
       "    <tr>\n",
       "      <th>6</th>\n",
       "      <td>CHEM 281</td>\n",
       "      <td>Software Engineering for Scientific Computing</td>\n",
       "      <td>The course covers computer architecture and software features that have the greatest impact on performance. It addresses debugging and performance tuning, detecting memory and stack overwrites, malloc corruption, hotspot, paging, and cache misses. A toolbox with common algorithms: sorting, searching, hashing, trees, and graph traversing is followed by common patterns used in object-oriented design. It describes programming paradigms, dynamic libraries, distributed architectures, and services. Lectures on linear algebra and performance libraries are provided as background for future courses. HPC paradigms and GPU programming are introduced. Software packaging, extensibility, and interactivity are followed by team development, testing, and hardening.</td>\n",
       "      <td>3</td>\n",
       "    </tr>\n",
       "    <tr>\n",
       "      <th>7</th>\n",
       "      <td>CHEM 279</td>\n",
       "      <td>Numerical Algorithms applied to Computational Quantum Chemistry</td>\n",
       "      <td>An introduction to numerical algorithms, their application to computational quantum chemistry, and best practices for software implementation, and reuse. This course covers a toolbox of useful algorithms from applied mathematics that are used in physical simulations. They are illustrated via computer implementation of density functional theory for modeling chemical reaction mechanisms from quantum mechanics. Topics covered include local optimization, numerical derivatives, and numerical integration, dense linear algebra, the symmetric eigenvalue problem, the singular value decomposition, and the fast Fourier transform. More specialized topics as time permits. Students are guided through principles of procedural and object-oriented programming in C++, as well as the usage of efficient numerical libraries.</td>\n",
       "      <td>3</td>\n",
       "    </tr>\n",
       "  </tbody>\n",
       "</table>\n",
       "</div>"
      ],
      "text/plain": [
       "  Course Number  \\\n",
       "6      CHEM 281   \n",
       "7      CHEM 279   \n",
       "\n",
       "                                                       Course Title  \\\n",
       "6                    Software Engineering for Scientific Computing    \n",
       "7  Numerical Algorithms applied to Computational Quantum Chemistry    \n",
       "\n",
       "                                                                                                                                                                                                                                                                                                                                                                                                                                                                                                                                                                                                                                                                                                                                                                                                                                       Description  \\\n",
       "6                                                           The course covers computer architecture and software features that have the greatest impact on performance. It addresses debugging and performance tuning, detecting memory and stack overwrites, malloc corruption, hotspot, paging, and cache misses. A toolbox with common algorithms: sorting, searching, hashing, trees, and graph traversing is followed by common patterns used in object-oriented design. It describes programming paradigms, dynamic libraries, distributed architectures, and services. Lectures on linear algebra and performance libraries are provided as background for future courses. HPC paradigms and GPU programming are introduced. Software packaging, extensibility, and interactivity are followed by team development, testing, and hardening.   \n",
       "7  An introduction to numerical algorithms, their application to computational quantum chemistry, and best practices for software implementation, and reuse. This course covers a toolbox of useful algorithms from applied mathematics that are used in physical simulations. They are illustrated via computer implementation of density functional theory for modeling chemical reaction mechanisms from quantum mechanics. Topics covered include local optimization, numerical derivatives, and numerical integration, dense linear algebra, the symmetric eigenvalue problem, the singular value decomposition, and the fast Fourier transform. More specialized topics as time permits. Students are guided through principles of procedural and object-oriented programming in C++, as well as the usage of efficient numerical libraries.   \n",
       "\n",
       "  Units  \n",
       "6     3  \n",
       "7     3  "
      ]
     },
     "execution_count": 28,
     "metadata": {},
     "output_type": "execute_result"
    }
   ],
   "source": [
    "df_msse[df_msse['Course Number'].isin(['CHEM 281', 'CHEM 279'])]"
   ]
  },
  {
   "cell_type": "code",
   "execution_count": 24,
   "id": "9da6e0d6-4dbc-4a49-b57f-0344ca74d698",
   "metadata": {},
   "outputs": [
    {
     "data": {
      "text/html": [
       "<div>\n",
       "<style scoped>\n",
       "    .dataframe tbody tr th:only-of-type {\n",
       "        vertical-align: middle;\n",
       "    }\n",
       "\n",
       "    .dataframe tbody tr th {\n",
       "        vertical-align: top;\n",
       "    }\n",
       "\n",
       "    .dataframe thead th {\n",
       "        text-align: right;\n",
       "    }\n",
       "</style>\n",
       "<table border=\"1\" class=\"dataframe\">\n",
       "  <thead>\n",
       "    <tr style=\"text-align: right;\">\n",
       "      <th></th>\n",
       "      <th>Course Number</th>\n",
       "      <th>Course Title</th>\n",
       "      <th>Description</th>\n",
       "      <th>Units</th>\n",
       "    </tr>\n",
       "  </thead>\n",
       "  <tbody>\n",
       "    <tr>\n",
       "      <th>3</th>\n",
       "      <td>DATA 200S</td>\n",
       "      <td>Principles and Techniques of Data Science</td>\n",
       "      <td>Explores the data science lifecycle: question formulation, data collection and cleaning, exploratory, analysis, visualization, statistical inference, prediction, and decision-making. Focuses on quantitative critical thinking and key principles and techniques: languages for transforming, querying, and analyzing data; algorithms for machine learning methods: regression, classification, and clustering; principles of informative visualization; measurement error and prediction; and techniques for scalable data processing. Research term project.</td>\n",
       "      <td>3</td>\n",
       "    </tr>\n",
       "    <tr>\n",
       "      <th>5</th>\n",
       "      <td>CHEM 277B</td>\n",
       "      <td>Machine Learning Algorithms</td>\n",
       "      <td>An introduction to mathematical optimization and statistics and \"nonalgorithmic\" computation using machine learning. Machine learning prerequisites are introduced including local and global optimization, various statistical and clustering models, and early metaheuristic methods such as genetic algorithms and artificial neural networks. Building on this foundation, current machine learning techniques are covered including Deep Learning networks, Convolutional neural networks, Recurrent and long short-term memory (LSTM) networks, and support vector machines and Gaussian ridge regression. Various case studies in applying optimization, statistical modeling, and machine learning methods as classification and regression tasks in different scientific software areas.</td>\n",
       "      <td>3</td>\n",
       "    </tr>\n",
       "  </tbody>\n",
       "</table>\n",
       "</div>"
      ],
      "text/plain": [
       "  Course Number                               Course Title  \\\n",
       "3     DATA 200S  Principles and Techniques of Data Science   \n",
       "5     CHEM 277B                Machine Learning Algorithms   \n",
       "\n",
       "                                                                                                                                                                                                                                                                                                                                                                                                                                                                                                                                                                                                                                                                                                                                                                                         Description  \\\n",
       "3                                                                                                                                                                                                                                  Explores the data science lifecycle: question formulation, data collection and cleaning, exploratory, analysis, visualization, statistical inference, prediction, and decision-making. Focuses on quantitative critical thinking and key principles and techniques: languages for transforming, querying, and analyzing data; algorithms for machine learning methods: regression, classification, and clustering; principles of informative visualization; measurement error and prediction; and techniques for scalable data processing. Research term project.   \n",
       "5  An introduction to mathematical optimization and statistics and \"nonalgorithmic\" computation using machine learning. Machine learning prerequisites are introduced including local and global optimization, various statistical and clustering models, and early metaheuristic methods such as genetic algorithms and artificial neural networks. Building on this foundation, current machine learning techniques are covered including Deep Learning networks, Convolutional neural networks, Recurrent and long short-term memory (LSTM) networks, and support vector machines and Gaussian ridge regression. Various case studies in applying optimization, statistical modeling, and machine learning methods as classification and regression tasks in different scientific software areas.   \n",
       "\n",
       "  Units  \n",
       "3     3  \n",
       "5     3  "
      ]
     },
     "execution_count": 24,
     "metadata": {},
     "output_type": "execute_result"
    }
   ],
   "source": [
    "df_msse[df_msse['Course Number'].isin(['CHEM 277B', 'DATA 200S'])]"
   ]
  },
  {
   "cell_type": "code",
   "execution_count": 25,
   "id": "5bf8a025-4ba8-4be8-bdaa-6e663629d9d5",
   "metadata": {},
   "outputs": [
    {
     "data": {
      "text/html": [
       "<div>\n",
       "<style scoped>\n",
       "    .dataframe tbody tr th:only-of-type {\n",
       "        vertical-align: middle;\n",
       "    }\n",
       "\n",
       "    .dataframe tbody tr th {\n",
       "        vertical-align: top;\n",
       "    }\n",
       "\n",
       "    .dataframe thead th {\n",
       "        text-align: right;\n",
       "    }\n",
       "</style>\n",
       "<table border=\"1\" class=\"dataframe\">\n",
       "  <thead>\n",
       "    <tr style=\"text-align: right;\">\n",
       "      <th></th>\n",
       "      <th>Course Number</th>\n",
       "      <th>Course Title</th>\n",
       "      <th>Description</th>\n",
       "      <th>Units</th>\n",
       "    </tr>\n",
       "  </thead>\n",
       "  <tbody>\n",
       "    <tr>\n",
       "      <th>1</th>\n",
       "      <td>CHEM 274A</td>\n",
       "      <td>Programming Languages for Molecular Sciences: Python and C++</td>\n",
       "      <td>This course provides in-depth coverage of programming concepts and techniques required for scientific computing, data science, and high-performance computing using C++ and Python. The course will compare and contrast the functionalities of the two languages. Topics include classes, overloading, data abstraction, information hiding, encapsulation, file processing, exceptions, and low-level language features. Numerous exercises based on molecular science problems will provide the hands-on experience needed to learn these languages. This course serves as a prerequisite to later MSSE courses: Data Science, Machine Learning Algorithms, Software Engineering for Scientific Computing, Numerical Algorithms Applied to Computational Quantum Chemistry, and Applications of Parallel Computers.</td>\n",
       "      <td>3</td>\n",
       "    </tr>\n",
       "    <tr>\n",
       "      <th>8</th>\n",
       "      <td>COMPSCI C267</td>\n",
       "      <td>Applications of Parallel Computers</td>\n",
       "      <td>Models for parallel programming. Overview of parallelism in scientific applications and study of parallel algorithms for linear algebra, particles, meshes, sorting, FFT, graphs, machine learning, etc. Survey of parallel machines and machine structures. Programming shared- and distributed-memory parallel computers, GPUs, and cloud platforms. Parallel programming languages, compilers, libraries, and toolboxes. Data partitioning techniques. Techniques for synchronization and load balancing. Detailed study and algorithm/program development of medium-sized applications.</td>\n",
       "      <td>3</td>\n",
       "    </tr>\n",
       "  </tbody>\n",
       "</table>\n",
       "</div>"
      ],
      "text/plain": [
       "  Course Number                                                  Course Title  \\\n",
       "1     CHEM 274A  Programming Languages for Molecular Sciences: Python and C++   \n",
       "8  COMPSCI C267                            Applications of Parallel Computers   \n",
       "\n",
       "                                                                                                                                                                                                                                                                                                                                                                                                                                                                                                                                                                                                                                                                                                                                                                                                              Description  \\\n",
       "1  This course provides in-depth coverage of programming concepts and techniques required for scientific computing, data science, and high-performance computing using C++ and Python. The course will compare and contrast the functionalities of the two languages. Topics include classes, overloading, data abstraction, information hiding, encapsulation, file processing, exceptions, and low-level language features. Numerous exercises based on molecular science problems will provide the hands-on experience needed to learn these languages. This course serves as a prerequisite to later MSSE courses: Data Science, Machine Learning Algorithms, Software Engineering for Scientific Computing, Numerical Algorithms Applied to Computational Quantum Chemistry, and Applications of Parallel Computers.   \n",
       "8                                                                                                                                                                                                                             Models for parallel programming. Overview of parallelism in scientific applications and study of parallel algorithms for linear algebra, particles, meshes, sorting, FFT, graphs, machine learning, etc. Survey of parallel machines and machine structures. Programming shared- and distributed-memory parallel computers, GPUs, and cloud platforms. Parallel programming languages, compilers, libraries, and toolboxes. Data partitioning techniques. Techniques for synchronization and load balancing. Detailed study and algorithm/program development of medium-sized applications.   \n",
       "\n",
       "  Units  \n",
       "1     3  \n",
       "8     3  "
      ]
     },
     "execution_count": 25,
     "metadata": {},
     "output_type": "execute_result"
    }
   ],
   "source": [
    "df_msse[df_msse['Course Number'].isin(['COMPSCI C267', 'CHEM 274A'])]"
   ]
  },
  {
   "cell_type": "code",
   "execution_count": null,
   "id": "d1844d78-3bc9-4be1-8c82-f37ae75f02ed",
   "metadata": {},
   "outputs": [],
   "source": []
  }
 ],
 "metadata": {
  "kernelspec": {
   "display_name": "Python 3 (ipykernel)",
   "language": "python",
   "name": "python3"
  },
  "language_info": {
   "codemirror_mode": {
    "name": "ipython",
    "version": 3
   },
   "file_extension": ".py",
   "mimetype": "text/x-python",
   "name": "python",
   "nbconvert_exporter": "python",
   "pygments_lexer": "ipython3",
   "version": "3.10.9"
  }
 },
 "nbformat": 4,
 "nbformat_minor": 5
}
