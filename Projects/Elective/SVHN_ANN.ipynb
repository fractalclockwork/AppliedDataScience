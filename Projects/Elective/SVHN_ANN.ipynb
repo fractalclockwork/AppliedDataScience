{
 "cells": [
  {
   "cell_type": "markdown",
   "metadata": {
    "id": "Q91KqmCRu64D"
   },
   "source": [
    "# **Artificial Neural Networks Project: Street View Housing Number Digit Recognition**\n",
    "## Adapted by: Brent A. Thorne\n",
    "<brentathorne@gmail.com>\n",
    "\n",
    "--------------\n",
    "## **Marks: 30 <font color='green'>$\\checkmark$</font>**\n",
    "--------------\n",
    "Welcome to the project on classification using Artificial Neural Networks. We will work with the Street View Housing Numbers (SVHN) image dataset for this project.\n",
    "\n",
    "--------------\n",
    "## **Context** \n",
    "--------------\n",
    "\n",
    "One of the most interesting tasks in deep learning is to recognize objects in natural scenes. The ability to process visual information using machine learning algorithms can be very useful as demonstrated in various applications.\n",
    "\n",
    "The SVHN dataset contains over 600,000 labeled digits cropped from street-level photos. It is one of the most popular image recognition datasets. It has been used in neural networks created by Google to improve the map quality by automatically transcribing the address numbers from a patch of pixels. The transcribed number with a known street address helps pinpoint the location of the building it represents. \n",
    "\n",
    "----------------\n",
    "## **Objective**\n",
    "----------------\n",
    "\n",
    "To build a feed-forward neural network model that can recognize the digits in the images. \n",
    "\n",
    "-------------\n",
    "## **Dataset**\n",
    "-------------\n",
    "Here, we will use a subset of the original data to save some computation time. The dataset is provided as a .h5 file. The basic preprocessing steps have been applied on the dataset."
   ]
  },
  {
   "cell_type": "markdown",
   "metadata": {
    "id": "8z2Z7-OAs8QG"
   },
   "source": [
    "## **Mount the drive**\n",
    "\n",
    "Let us start by mounting the Google drive. You can run the below cell to mount the Google drive."
   ]
  },
  {
   "cell_type": "code",
   "execution_count": 1,
   "metadata": {
    "colab": {
     "base_uri": "https://localhost:8080/"
    },
    "executionInfo": {
     "elapsed": 30739,
     "status": "ok",
     "timestamp": 1678824209152,
     "user": {
      "displayName": "Brent Thorne",
      "userId": "02880757590043568496"
     },
     "user_tz": 420
    },
    "id": "03lDyQUuef7z",
    "outputId": "2b8727ca-48be-4846-f862-da9fad0fe02e"
   },
   "outputs": [
    {
     "name": "stdout",
     "output_type": "stream",
     "text": [
      "Mounted at /content/drive\n"
     ]
    }
   ],
   "source": [
    "from google.colab import drive\n",
    "drive.mount('/content/drive')\n",
    "path='/content/drive/MyDrive/Colab Notebooks/content/'"
   ]
  },
  {
   "cell_type": "markdown",
   "metadata": {
    "id": "C8U3DUa3eNsT"
   },
   "source": [
    "## **Importing the necessary libraries**"
   ]
  },
  {
   "cell_type": "code",
   "execution_count": 2,
   "metadata": {
    "executionInfo": {
     "elapsed": 4123,
     "status": "ok",
     "timestamp": 1678824213265,
     "user": {
      "displayName": "Brent Thorne",
      "userId": "02880757590043568496"
     },
     "user_tz": 420
    },
    "id": "-dVzeuF3eQx1"
   },
   "outputs": [],
   "source": [
    "import numpy as np\n",
    "import pandas as pd\n",
    "import matplotlib.pyplot as plt\n",
    "import seaborn as sns\n",
    "\n",
    "from sklearn.model_selection import train_test_split\n",
    "from sklearn.preprocessing import MinMaxScaler\n",
    "\n",
    "import tensorflow as tf\n",
    "\n",
    "from tensorflow.keras.models import Sequential\n",
    "from tensorflow.keras.layers import (Dense,\n",
    "                                     Dropout,\n",
    "                                     Activation,\n",
    "                                     BatchNormalization,\n",
    "                                     Flatten)\n",
    "from tensorflow.keras.losses import categorical_crossentropy\n",
    "from tensorflow.keras.optimizers import Adam\n",
    "from tensorflow.keras.utils import to_categorical"
   ]
  },
  {
   "cell_type": "markdown",
   "metadata": {
    "id": "ucnevGLoyKf_"
   },
   "source": [
    "**Let us check the version of tensorflow and if we have been allocated a GPU.**"
   ]
  },
  {
   "cell_type": "code",
   "execution_count": 3,
   "metadata": {
    "colab": {
     "base_uri": "https://localhost:8080/"
    },
    "executionInfo": {
     "elapsed": 3749,
     "status": "ok",
     "timestamp": 1678824217006,
     "user": {
      "displayName": "Brent Thorne",
      "userId": "02880757590043568496"
     },
     "user_tz": 420
    },
    "id": "W5as47YxyJVk",
    "outputId": "0f4cd450-2eae-43d5-e32d-e24e8d0a27c8"
   },
   "outputs": [
    {
     "name": "stdout",
     "output_type": "stream",
     "text": [
      "Tensor Flow Version: 2.11.0\n",
      "Keras Version: 2.11.0\n",
      "Python 3.9.16 (main, Dec  7 2022, 01:11:51) \n",
      "[GCC 9.4.0]\n",
      "Pandas 1.4.4\n",
      "GPU is available\n",
      "\n",
      "System Info:\n",
      "[name: \"/device:CPU:0\"\n",
      "device_type: \"CPU\"\n",
      "memory_limit: 268435456\n",
      "locality {\n",
      "}\n",
      "incarnation: 1634657587768345592\n",
      "xla_global_id: -1\n",
      ", name: \"/device:GPU:0\"\n",
      "device_type: \"GPU\"\n",
      "memory_limit: 14385217536\n",
      "locality {\n",
      "  bus_id: 1\n",
      "  links {\n",
      "  }\n",
      "}\n",
      "incarnation: 8885122855043917833\n",
      "physical_device_desc: \"device: 0, name: Tesla T4, pci bus id: 0000:00:04.0, compute capability: 7.5\"\n",
      "xla_global_id: 416903419\n",
      "]\n"
     ]
    }
   ],
   "source": [
    "#print(tf.__version__)\n",
    "import sys\n",
    "from tensorflow.python.client import device_lib\n",
    "\n",
    "print(f\"Tensor Flow Version: {tf.__version__}\")\n",
    "print(f\"Keras Version: {tf.keras.__version__}\")\n",
    "print(f\"Python {sys.version}\")\n",
    "print(f\"Pandas {pd.__version__}\")\n",
    "\n",
    "if len(tf.config.list_physical_devices('GPU')) > 0: \n",
    "  print(\"GPU is\", \"available\")\n",
    "else:\n",
    "  print(\"GPU is\", \"NOT AVAILABLE\")\n",
    "  print(\"Note: Colab by default only allocates one GPU for all sessions.\")\n",
    "  print(\"Be sure to close any other open sessions, then restart this kernel!\")\n",
    "  assert(False), 'No GPU AVAILABLE. ;-('\n",
    "print()\n",
    "print('System Info:')\n",
    "print(device_lib.list_local_devices())"
   ]
  },
  {
   "cell_type": "markdown",
   "metadata": {
    "id": "8lsux2ZwyTTR"
   },
   "source": [
    "## **Load the dataset**\n",
    "\n",
    "- Let us now load the dataset that is available as a .h5 file.\n",
    "- Split the data into the train and the test dataset.\n",
    "- Per our model description do a <font color='blue'>validation</font> split$^*$ of 0.2 on the training data.\n",
    "\n",
    "$ ^*$Note: We are careful to do the split before normalization to avoid data leakage."
   ]
  },
  {
   "cell_type": "code",
   "execution_count": 4,
   "metadata": {
    "executionInfo": {
     "elapsed": 2913,
     "status": "ok",
     "timestamp": 1678824221317,
     "user": {
      "displayName": "Brent Thorne",
      "userId": "02880757590043568496"
     },
     "user_tz": 420
    },
    "id": "BApX9qgNsqV0",
    "scrolled": true
   },
   "outputs": [],
   "source": [
    "import h5py\n",
    "\n",
    "# Open the file as read only\n",
    "# User can make changes in the path as required\n",
    "h5f = h5py.File(f'{path}/SVHN_single_grey1.h5', 'r')\n",
    "\n",
    "# Load the training and the test dataset\n",
    "X_train = h5f['X_train'][:]\n",
    "y_train = h5f['y_train'][:]\n",
    "X_test = h5f['X_test'][:]\n",
    "y_test = h5f['y_test'][:]\n",
    "\n",
    "# Close this file\n",
    "h5f.close()"
   ]
  },
  {
   "cell_type": "code",
   "execution_count": 5,
   "metadata": {
    "executionInfo": {
     "elapsed": 18,
     "status": "ok",
     "timestamp": 1678824221318,
     "user": {
      "displayName": "Brent Thorne",
      "userId": "02880757590043568496"
     },
     "user_tz": 420
    },
    "id": "l0XeIp1G23UI"
   },
   "outputs": [],
   "source": [
    "# Splitting the dataset into the Training and Validation set.\n",
    "X_train, X_validation, y_train, y_validation = train_test_split(\n",
    "    X_train, y_train,\n",
    "    test_size = 0.2, random_state = 42, stratify = y_train)"
   ]
  },
  {
   "cell_type": "markdown",
   "metadata": {
    "id": "hVe0CYpUgj7w"
   },
   "source": [
    "Let's check the number of images in the training, <font color='blue'>validation</font>  and testing dataset."
   ]
  },
  {
   "cell_type": "code",
   "execution_count": 6,
   "metadata": {
    "colab": {
     "base_uri": "https://localhost:8080/"
    },
    "executionInfo": {
     "elapsed": 17,
     "status": "ok",
     "timestamp": 1678824221319,
     "user": {
      "displayName": "Brent Thorne",
      "userId": "02880757590043568496"
     },
     "user_tz": 420
    },
    "id": "y3lwKpOefkpA",
    "outputId": "39c1cd3c-5e9e-4c25-a2ee-7f42e145de3c"
   },
   "outputs": [
    {
     "data": {
      "text/plain": [
       "(33600, 8400, 18000)"
      ]
     },
     "execution_count": 6,
     "metadata": {},
     "output_type": "execute_result"
    }
   ],
   "source": [
    "len(X_train), len(X_validation), len(X_test)"
   ]
  },
  {
   "cell_type": "markdown",
   "metadata": {
    "id": "akTUOfLlgwoM"
   },
   "source": [
    "**Observation:**\n",
    " - There were 42,000 images in the training data.\n",
    " - after a 20% validation split we now have 33,600 images in the train set and 8,400 in the validation set.\n",
    " - This validation split will help us to train our model and adjust our model (and/or hyperparameters) without data leakage.\n",
    " - Our final model will be tested on the test dataset of 18,000 images."
   ]
  },
  {
   "cell_type": "markdown",
   "metadata": {
    "id": "kxODV6HKykuc"
   },
   "source": [
    "## **Visualizing images**\n",
    "\n",
    "- Use X_train to visualize the first 10 images.\n",
    "- Use Y_train to print the first 10 labels.\n",
    "\n"
   ]
  },
  {
   "cell_type": "code",
   "execution_count": 7,
   "metadata": {
    "colab": {
     "base_uri": "https://localhost:8080/",
     "height": 95
    },
    "executionInfo": {
     "elapsed": 482,
     "status": "ok",
     "timestamp": 1678824221789,
     "user": {
      "displayName": "Brent Thorne",
      "userId": "02880757590043568496"
     },
     "user_tz": 420
    },
    "id": "Bvsc8ytHsqWD",
    "outputId": "e8b8e84b-79d3-41dc-8536-ef1c159cd318"
   },
   "outputs": [
    {
     "data": {
      "image/png": "[encoded data removed]",
      "text/plain": [
       "<Figure size 720x72 with 10 Axes>"
      ]
     },
     "metadata": {
      "needs_background": "light"
     },
     "output_type": "display_data"
    },
    {
     "name": "stdout",
     "output_type": "stream",
     "text": [
      "label for each of the above image: [3 7 0 2 3 2 0 7 7 4]\n"
     ]
    }
   ],
   "source": [
    "# Visualizing the first 10 images in the dataset and printing their labels\n",
    "plt.figure(figsize = (10, 1))\n",
    "\n",
    "for i in range(10):\n",
    "    plt.subplot(1, 10, i+1)\n",
    "    plt.imshow(X_train[i], cmap = \"gray\")\n",
    "    plt.axis('off')\n",
    "plt.show()\n",
    "\n",
    "print('label for each of the above image: %s' % (y_train[0:10]))"
   ]
  },
  {
   "cell_type": "markdown",
   "metadata": {
    "id": "kzoyeXHOy80N"
   },
   "source": [
    "## **Data preparation**\n",
    "\n",
    "- Print the shape and the array of pixels for the first image in the training dataset.\n",
    "- Reshape the train and the test dataset because we always have to give a 4D array as input to <font color='red'>ANNs</font>.\n",
    "- Normalize the train and the test dataset by dividing by 255.\n",
    "- Print the new shapes of the train and the test dataset.\n",
    "- One-hot encode the target variable."
   ]
  },
  {
   "cell_type": "code",
   "execution_count": 8,
   "metadata": {
    "colab": {
     "base_uri": "https://localhost:8080/"
    },
    "executionInfo": {
     "elapsed": 46,
     "status": "ok",
     "timestamp": 1678824221791,
     "user": {
      "displayName": "Brent Thorne",
      "userId": "02880757590043568496"
     },
     "user_tz": 420
    },
    "id": "NqndzQXng9rL",
    "outputId": "ebcc747d-7593-4763-8e9e-ec3cbe58d2e6"
   },
   "outputs": [
    {
     "name": "stdout",
     "output_type": "stream",
     "text": [
      "Shape: (32, 32)\n",
      "\n",
      "First image:\n",
      " [[ 96.827   91.0017  88.703  ...  52.8961  51.4833  48.6577]\n",
      " [ 85.3012  79.0029  77.0031 ...  45.054   44.5271  42.5874]\n",
      " [ 75.3022  70.3027  68.6018 ...  38.4999  36.8591  36.1042]\n",
      " ...\n",
      " [ 50.012   45.8984  43.8986 ... 107.7873 100.1301  95.0597]\n",
      " [ 50.5497  45.1373  41.7247 ... 114.1395 114.6556 110.3571]\n",
      " [ 52.0765  44.8492  39.8497 ... 118.8401 122.3667 122.0678]]\n"
     ]
    }
   ],
   "source": [
    "# Shape and the array of pixels for the first image\n",
    "print(\"Shape:\", X_train[0].shape)\n",
    "\n",
    "print()\n",
    "print(\"First image:\\n\", X_train[0])"
   ]
  },
  {
   "cell_type": "code",
   "execution_count": 9,
   "metadata": {
    "executionInfo": {
     "elapsed": 42,
     "status": "ok",
     "timestamp": 1678824221793,
     "user": {
      "displayName": "Brent Thorne",
      "userId": "02880757590043568496"
     },
     "user_tz": 420
    },
    "id": "D9YPwf9ysqWU"
   },
   "outputs": [],
   "source": [
    "# Reshaping the dataset to flatten them. We are reshaping the 2D image into 1D array\n",
    "X_train = X_train.reshape(X_train.shape[0], 1024)\n",
    "X_validation = X_validation.reshape(X_validation.shape[0], 1024)\n",
    "X_test = X_test.reshape(X_test.shape[0], 1024)"
   ]
  },
  {
   "cell_type": "markdown",
   "metadata": {
    "id": "f4CQkKtQ0XII"
   },
   "source": [
    "### **Question 1: Normalize the train, <font color='blue'>validation</font>, and test data. (2 Marks)**\n",
    "<font color='green'>$\\checkmark$</font> "
   ]
  },
  {
   "cell_type": "code",
   "execution_count": 10,
   "metadata": {
    "executionInfo": {
     "elapsed": 43,
     "status": "ok",
     "timestamp": 1678824221795,
     "user": {
      "displayName": "Brent Thorne",
      "userId": "02880757590043568496"
     },
     "user_tz": 420
    },
    "id": "q_yUUTp_mUzB"
   },
   "outputs": [],
   "source": [
    "# Normalize inputs from 0-255 to 0-1\n",
    "X_train = X_train/255.0\n",
    "X_validation = X_validation/255.0\n",
    "X_test = X_test/255.0"
   ]
  },
  {
   "cell_type": "code",
   "execution_count": 11,
   "metadata": {
    "colab": {
     "base_uri": "https://localhost:8080/"
    },
    "executionInfo": {
     "elapsed": 43,
     "status": "ok",
     "timestamp": 1678824221797,
     "user": {
      "displayName": "Brent Thorne",
      "userId": "02880757590043568496"
     },
     "user_tz": 420
    },
    "id": "t7FSqOpamWkH",
    "outputId": "12d6c5f2-ee60-4c24-81a7-00268a6fe5c1"
   },
   "outputs": [
    {
     "name": "stdout",
     "output_type": "stream",
     "text": [
      "Training set: (33600, 1024) (33600,)\n",
      "Validation set: (8400, 1024) (8400,)\n",
      "Test set: (18000, 1024) (18000,)\n"
     ]
    }
   ],
   "source": [
    "# New shape \n",
    "print('Training set:', X_train.shape, y_train.shape)\n",
    "print('Validation set:', X_validation.shape, y_validation.shape)\n",
    "print('Test set:', X_test.shape, y_test.shape)"
   ]
  },
  {
   "cell_type": "code",
   "execution_count": 12,
   "metadata": {
    "colab": {
     "base_uri": "https://localhost:8080/"
    },
    "executionInfo": {
     "elapsed": 39,
     "status": "ok",
     "timestamp": 1678824221798,
     "user": {
      "displayName": "Brent Thorne",
      "userId": "02880757590043568496"
     },
     "user_tz": 420
    },
    "id": "zL0lYER4sqWw",
    "outputId": "55a9b968-dab4-42f3-efbf-861ac90f558b"
   },
   "outputs": [
    {
     "data": {
      "text/plain": [
       "array([[0., 1., 0., ..., 0., 0., 0.],\n",
       "       [0., 0., 0., ..., 1., 0., 0.],\n",
       "       [0., 0., 1., ..., 0., 0., 0.],\n",
       "       ...,\n",
       "       [0., 0., 0., ..., 1., 0., 0.],\n",
       "       [0., 0., 0., ..., 0., 0., 1.],\n",
       "       [0., 0., 1., ..., 0., 0., 0.]], dtype=float32)"
      ]
     },
     "execution_count": 12,
     "metadata": {},
     "output_type": "execute_result"
    }
   ],
   "source": [
    "# One-hot encode output\n",
    "y_train = to_categorical(y_train)\n",
    "y_validation = to_categorical(y_validation)\n",
    "y_test = to_categorical(y_test)\n",
    "\n",
    "# Test labels\n",
    "y_test"
   ]
  },
  {
   "cell_type": "markdown",
   "metadata": {
    "id": "ViqPOTquCF76"
   },
   "source": [
    "**Observation:**\n",
    "- Notice that each entry of the target variable is a one-hot encoded vector instead of a single label."
   ]
  },
  {
   "cell_type": "markdown",
   "metadata": {
    "id": "yH-gVrzuByNA"
   },
   "source": [
    "## **Model Building**\n",
    "\n",
    "Now that we have done the data preprocessing, let's build an ANN model."
   ]
  },
  {
   "cell_type": "code",
   "execution_count": 13,
   "metadata": {
    "executionInfo": {
     "elapsed": 37,
     "status": "ok",
     "timestamp": 1678824221799,
     "user": {
      "displayName": "Brent Thorne",
      "userId": "02880757590043568496"
     },
     "user_tz": 420
    },
    "id": "BcKRwrGn0XIL"
   },
   "outputs": [],
   "source": [
    "# Fixing the seed for random number generators\n",
    "np.random.seed(42)\n",
    "import random\n",
    "\n",
    "random.seed(42)\n",
    "tf.random.set_seed(42)"
   ]
  },
  {
   "cell_type": "markdown",
   "metadata": {
    "id": "UJDUoaEj1d6e"
   },
   "source": [
    "### **Model Architecture**\n",
    "- Write a function that returns a sequential model with the following architecture:\n",
    " - First hidden layer with **64 nodes and the relu activation** and the **input shape = (1024, )**\n",
    " - Second hidden layer with **32 nodes and the relu activation**\n",
    " - Output layer with **activation as 'softmax' and number of nodes equal to the number of classes, i.e., 10**\n",
    " - Compile the model with the **loss equal to categorical_crossentropy, optimizer equal to Adam(learning_rate = 0.001), and metric equal to 'accuracy'**. Do not fit the model here, just return the compiled model.\n",
    "- Call the nn_model_1 function and store the model in a new variable. \n",
    "- Print the summary of the model.\n",
    "- Fit on the train data with a <font color='blue'>**validation split of 0.2, batch size = 128, verbose = 1, and epochs = 20**</font>$^*$.\n",
    "- Store the model building history to use later for visualization.\n",
    "\n",
    "$^*$Note: We've previously split our traing and validation sets in 'Load the dataset' section above."
   ]
  },
  {
   "cell_type": "markdown",
   "metadata": {
    "id": "A48z6ucF0XIP"
   },
   "source": [
    "### **Question 2: Build and train an ANN model as per the above mentioned architecture. (10 Marks)**\n",
    "<font color='green'>$\\checkmark$</font> "
   ]
  },
  {
   "cell_type": "code",
   "execution_count": 14,
   "metadata": {
    "executionInfo": {
     "elapsed": 37,
     "status": "ok",
     "timestamp": 1678824221801,
     "user": {
      "displayName": "Brent Thorne",
      "userId": "02880757590043568496"
     },
     "user_tz": 420
    },
    "id": "Cmi81Gr5sqW-"
   },
   "outputs": [],
   "source": [
    "def nn_model_1():\n",
    "  # Define the model\n",
    "  model = Sequential() \n",
    "\n",
    "  # First Layer  (Input)\n",
    "  # 64 nodes and relu activation with input shape = (1024, )\n",
    "  model.add(Dense(64, input_shape=(1024,), activation='relu'))\n",
    "\n",
    "  # Second Layer (Hidden)\n",
    "  # 32 nodes and the relu activation\n",
    "  model.add(Dense(32, activation='relu'))\n",
    "\n",
    "  # Third Layer  (Output)\n",
    "  # activation as 'softmax' with 10 nodes \n",
    "  model.add(Dense(10, activation='softmax')) # Our classifier\n",
    "    \n",
    "  # Compile the model\n",
    "  #  loss equal to categorical_crossentropy, \n",
    "  #  optimizer equal to Adam(learning_rate = 0.001), and \n",
    "  #  metric equal to 'accuracy'\n",
    "  optimizer = Adam(learning_rate=0.001)\n",
    "  model.compile(optimizer=optimizer, loss='categorical_crossentropy', metrics=['accuracy'])\n",
    "  return model"
   ]
  },
  {
   "cell_type": "code",
   "execution_count": 15,
   "metadata": {
    "executionInfo": {
     "elapsed": 37,
     "status": "ok",
     "timestamp": 1678824221802,
     "user": {
      "displayName": "Brent Thorne",
      "userId": "02880757590043568496"
     },
     "user_tz": 420
    },
    "id": "bGCUI_xsImnH"
   },
   "outputs": [],
   "source": [
    "# Build the model\n",
    "model_1 = nn_model_1()"
   ]
  },
  {
   "cell_type": "code",
   "execution_count": 16,
   "metadata": {
    "colab": {
     "base_uri": "https://localhost:8080/"
    },
    "executionInfo": {
     "elapsed": 36,
     "status": "ok",
     "timestamp": 1678824221802,
     "user": {
      "displayName": "Brent Thorne",
      "userId": "02880757590043568496"
     },
     "user_tz": 420
    },
    "id": "ckJsLdmdQadZ",
    "outputId": "5521d2dd-d7ed-4b62-abe9-db58e47588b7"
   },
   "outputs": [
    {
     "name": "stdout",
     "output_type": "stream",
     "text": [
      "Model: \"sequential\"\n",
      "_________________________________________________________________\n",
      " Layer (type)                Output Shape              Param #   \n",
      "=================================================================\n",
      " dense (Dense)               (None, 64)                65600     \n",
      "                                                                 \n",
      " dense_1 (Dense)             (None, 32)                2080      \n",
      "                                                                 \n",
      " dense_2 (Dense)             (None, 10)                330       \n",
      "                                                                 \n",
      "=================================================================\n",
      "Total params: 68,010\n",
      "Trainable params: 68,010\n",
      "Non-trainable params: 0\n",
      "_________________________________________________________________\n"
     ]
    }
   ],
   "source": [
    "# Print the summary\n",
    "model_1.summary()"
   ]
  },
  {
   "cell_type": "code",
   "execution_count": 17,
   "metadata": {
    "colab": {
     "base_uri": "https://localhost:8080/"
    },
    "executionInfo": {
     "elapsed": 26322,
     "status": "ok",
     "timestamp": 1678824248096,
     "user": {
      "displayName": "Brent Thorne",
      "userId": "02880757590043568496"
     },
     "user_tz": 420
    },
    "id": "3Fy3Dif_zcCk",
    "outputId": "8ff1c688-dd65-47c9-dcdd-18426604a0fb"
   },
   "outputs": [
    {
     "name": "stdout",
     "output_type": "stream",
     "text": [
      "Epoch 1/20\n",
      "263/263 [==============================] - 7s 5ms/step - loss: 2.2982 - accuracy: 0.1188 - val_loss: 2.2511 - val_accuracy: 0.1598\n",
      "Epoch 2/20\n",
      "263/263 [==============================] - 1s 4ms/step - loss: 2.1035 - accuracy: 0.2158 - val_loss: 1.9153 - val_accuracy: 0.3235\n",
      "Epoch 3/20\n",
      "263/263 [==============================] - 1s 4ms/step - loss: 1.7962 - accuracy: 0.3781 - val_loss: 1.6535 - val_accuracy: 0.4440\n",
      "Epoch 4/20\n",
      "263/263 [==============================] - 1s 4ms/step - loss: 1.5837 - accuracy: 0.4707 - val_loss: 1.4806 - val_accuracy: 0.5115\n",
      "Epoch 5/20\n",
      "263/263 [==============================] - 1s 4ms/step - loss: 1.4444 - accuracy: 0.5311 - val_loss: 1.4405 - val_accuracy: 0.5296\n",
      "Epoch 6/20\n",
      "263/263 [==============================] - 1s 4ms/step - loss: 1.3672 - accuracy: 0.5594 - val_loss: 1.3311 - val_accuracy: 0.5710\n",
      "Epoch 7/20\n",
      "263/263 [==============================] - 1s 4ms/step - loss: 1.3146 - accuracy: 0.5820 - val_loss: 1.3089 - val_accuracy: 0.5763\n",
      "Epoch 8/20\n",
      "263/263 [==============================] - 1s 3ms/step - loss: 1.2719 - accuracy: 0.5977 - val_loss: 1.2555 - val_accuracy: 0.6002\n",
      "Epoch 9/20\n",
      "263/263 [==============================] - 1s 3ms/step - loss: 1.2451 - accuracy: 0.6074 - val_loss: 1.2346 - val_accuracy: 0.6125\n",
      "Epoch 10/20\n",
      "263/263 [==============================] - 1s 4ms/step - loss: 1.2201 - accuracy: 0.6186 - val_loss: 1.2137 - val_accuracy: 0.6174\n",
      "Epoch 11/20\n",
      "263/263 [==============================] - 1s 4ms/step - loss: 1.1976 - accuracy: 0.6259 - val_loss: 1.1987 - val_accuracy: 0.6240\n",
      "Epoch 12/20\n",
      "263/263 [==============================] - 1s 5ms/step - loss: 1.1798 - accuracy: 0.6315 - val_loss: 1.1918 - val_accuracy: 0.6243\n",
      "Epoch 13/20\n",
      "263/263 [==============================] - 1s 5ms/step - loss: 1.1652 - accuracy: 0.6379 - val_loss: 1.1870 - val_accuracy: 0.6262\n",
      "Epoch 14/20\n",
      "263/263 [==============================] - 1s 4ms/step - loss: 1.1452 - accuracy: 0.6457 - val_loss: 1.1547 - val_accuracy: 0.6446\n",
      "Epoch 15/20\n",
      "263/263 [==============================] - 1s 4ms/step - loss: 1.1315 - accuracy: 0.6496 - val_loss: 1.1200 - val_accuracy: 0.6586\n",
      "Epoch 16/20\n",
      "263/263 [==============================] - 1s 4ms/step - loss: 1.1214 - accuracy: 0.6518 - val_loss: 1.1320 - val_accuracy: 0.6469\n",
      "Epoch 17/20\n",
      "263/263 [==============================] - 1s 4ms/step - loss: 1.1112 - accuracy: 0.6552 - val_loss: 1.1274 - val_accuracy: 0.6483\n",
      "Epoch 18/20\n",
      "263/263 [==============================] - 1s 4ms/step - loss: 1.1040 - accuracy: 0.6563 - val_loss: 1.0861 - val_accuracy: 0.6693\n",
      "Epoch 19/20\n",
      "263/263 [==============================] - 1s 4ms/step - loss: 1.0858 - accuracy: 0.6639 - val_loss: 1.1019 - val_accuracy: 0.6574\n",
      "Epoch 20/20\n",
      "263/263 [==============================] - 1s 4ms/step - loss: 1.0771 - accuracy: 0.6688 - val_loss: 1.0873 - val_accuracy: 0.6670\n"
     ]
    }
   ],
   "source": [
    "# Fit the model to training data\n",
    "#  validation split of 0.2,\n",
    "#  batch size = 128,\n",
    "#  verbose = 1, and \n",
    "#  epochs = 20.\n",
    "history_model_1 = model_1.fit(X_train, y_train,\n",
    "                              validation_data=(X_validation, y_validation),\n",
    "                              batch_size = 128,\n",
    "                              verbose = 1,\n",
    "                              epochs=20)"
   ]
  },
  {
   "cell_type": "markdown",
   "metadata": {
    "id": "tKOckG-KPyLg"
   },
   "source": [
    "### **Plotting the validation and training accuracies**"
   ]
  },
  {
   "cell_type": "markdown",
   "metadata": {
    "id": "MeF8XSWz0XIU"
   },
   "source": [
    "### **Question 3: Write your observations on the below plot. (2 Marks)**\n",
    "<font color='green'>$\\checkmark$</font> "
   ]
  },
  {
   "cell_type": "code",
   "execution_count": 18,
   "metadata": {
    "colab": {
     "base_uri": "https://localhost:8080/",
     "height": 497
    },
    "executionInfo": {
     "elapsed": 49,
     "status": "ok",
     "timestamp": 1678824248098,
     "user": {
      "displayName": "Brent Thorne",
      "userId": "02880757590043568496"
     },
     "user_tz": 420
    },
    "id": "u1Z61AoKH-O5",
    "outputId": "15a28319-1714-4484-e6b2-4c20b39d45ab"
   },
   "outputs": [
    {
     "data": {
      "image/png": "[encoded data removed]",
      "text/plain": [
       "<Figure size 576x576 with 1 Axes>"
      ]
     },
     "metadata": {
      "needs_background": "light"
     },
     "output_type": "display_data"
    }
   ],
   "source": [
    "dict_hist = history_model_1.history\n",
    "list_ep = [i for i in range(1, 21)]\n",
    "\n",
    "plt.figure(figsize = (8, 8))\n",
    "plt.plot(list_ep, dict_hist['accuracy'], ls = '--', label = 'accuracy')\n",
    "plt.plot(list_ep, dict_hist['val_accuracy'], ls = '--', label = 'val_accuracy')\n",
    "plt.ylabel('Accuracy')\n",
    "plt.xlabel('Epochs')\n",
    "plt.legend()\n",
    "plt.show()"
   ]
  },
  {
   "cell_type": "code",
   "execution_count": 19,
   "metadata": {
    "colab": {
     "base_uri": "https://localhost:8080/"
    },
    "executionInfo": {
     "elapsed": 44,
     "status": "ok",
     "timestamp": 1678824248099,
     "user": {
      "displayName": "Brent Thorne",
      "userId": "02880757590043568496"
     },
     "user_tz": 420
    },
    "id": "gLYBlKOd79tC",
    "outputId": "c6f04cb5-353a-4513-9f8b-fb73c888ea0b"
   },
   "outputs": [
    {
     "name": "stdout",
     "output_type": "stream",
     "text": [
      "263/263 - 0s - loss: 1.0873 - accuracy: 0.6670 - 491ms/epoch - 2ms/step\n"
     ]
    },
    {
     "data": {
      "text/plain": [
       "[1.0872836112976074, 0.6670238375663757]"
      ]
     },
     "execution_count": 19,
     "metadata": {},
     "output_type": "execute_result"
    }
   ],
   "source": [
    "# Show validation results\n",
    "model_1.evaluate(X_validation, y_validation, verbose = 2)"
   ]
  },
  {
   "cell_type": "markdown",
   "metadata": {
    "id": "pGBbQpLONX7k"
   },
   "source": [
    "**Observations:**\n",
    "\n",
    "- From the plots above we see the model is generalizing well but the accuracy/val_accuracy is around 67%\n",
    "- We would hope to get higher accuracy or val_accuracy scores.\n",
    "- A loss of ~1.08 indicates a high number of misclassification and room for model improvement. \n",
    "\n",
    "Recall: categorical-cross-entropy-loss-function\n",
    " - Used for classification model where there are two or more output labels.\n",
    " - The output label is assigned one-hot category encoding value\n"
   ]
  },
  {
   "cell_type": "markdown",
   "metadata": {
    "id": "z0qgLMBZm5-K"
   },
   "source": [
    "Let's build one more model with higher complexity and see if we can improve the performance of the model. \n",
    "\n",
    "First, we need to clear the previous model's history from the Keras backend. Also, let's fix the seed again after clearing the backend."
   ]
  },
  {
   "cell_type": "code",
   "execution_count": 20,
   "metadata": {
    "executionInfo": {
     "elapsed": 39,
     "status": "ok",
     "timestamp": 1678824248101,
     "user": {
      "displayName": "Brent Thorne",
      "userId": "02880757590043568496"
     },
     "user_tz": 420
    },
    "id": "y98BpLxsok_H"
   },
   "outputs": [],
   "source": [
    "# Clearing backend\n",
    "from tensorflow.keras import backend\n",
    "backend.clear_session()"
   ]
  },
  {
   "cell_type": "code",
   "execution_count": 21,
   "metadata": {
    "executionInfo": {
     "elapsed": 39,
     "status": "ok",
     "timestamp": 1678824248102,
     "user": {
      "displayName": "Brent Thorne",
      "userId": "02880757590043568496"
     },
     "user_tz": 420
    },
    "id": "HbKi93HTolGW"
   },
   "outputs": [],
   "source": [
    "# Fixing the seed for random number generators\n",
    "np.random.seed(42)\n",
    "\n",
    "import random\n",
    "random.seed(42)\n",
    "tf.random.set_seed(42)"
   ]
  },
  {
   "cell_type": "markdown",
   "metadata": {
    "id": "lT6o3TIKuCtk"
   },
   "source": [
    "### **Second Model Architecture**\n",
    "- Write a function that returns a sequential model with the following architecture:\n",
    " - First hidden layer with **256 nodes and the relu activation** and the **input shape = (1024, )**\n",
    " - Second hidden layer with **128 nodes and the relu activation**\n",
    " - Add the **Dropout layer with the rate equal to 0.2**\n",
    " - Third hidden layer with **64 nodes and the relu activation**\n",
    " - Fourth hidden layer with **64 nodes and the relu activation**\n",
    " - Fifth hidden layer with **32 nodes and the relu activation**\n",
    " - Add the **BatchNormalization layer**\n",
    " - Output layer with **activation as 'softmax' and number of nodes equal to the number of classes, i.e., 10**\n",
    " -Compile the model with the **loss equal to categorical_crossentropy, optimizer equal to Adam(learning_rate = 0.0005), and metric equal to 'accuracy'**. Do not fit the model here, just return the compiled model.\n",
    "- Call the nn_model_2 function and store the model in a new variable.\n",
    "- Print the summary of the model.\n",
    "- Fit on the train data with a **validation split of 0.2, batch size = 128, verbose = 1, and epochs = 30**. Store the model building history to use later for visualization."
   ]
  },
  {
   "cell_type": "markdown",
   "metadata": {
    "id": "f-ZjNBmH0XIV"
   },
   "source": [
    "### **Question 4: Build and train the new ANN model as per the above mentioned architecture (10 Marks)**\n",
    "<font color='green'>$\\checkmark$</font> "
   ]
  },
  {
   "cell_type": "code",
   "execution_count": 22,
   "metadata": {
    "executionInfo": {
     "elapsed": 41,
     "status": "ok",
     "timestamp": 1678824248104,
     "user": {
      "displayName": "Brent Thorne",
      "userId": "02880757590043568496"
     },
     "user_tz": 420
    },
    "id": "EEPYLFIPnSDP"
   },
   "outputs": [],
   "source": [
    "def nn_model_2():\n",
    "  # Define the model\n",
    "  model = Sequential() \n",
    "\n",
    "  # First Layer  (Input)\n",
    "  # 256 nodes and the relu activation and \n",
    "  # input shape = (1024, )\n",
    "  model.add(Dense(256, input_shape=(1024,), activation='relu'))\n",
    "\n",
    "  # Second Layer (Hidden)\n",
    "  # 128 nodes and the relu activation\n",
    "  model.add(Dense(128, activation='relu'))\n",
    "\n",
    "  # Dropout layer (Dropout)\n",
    "  # with the rate equal to 0.2*\n",
    "  model.add(Dropout(0.2))\n",
    "\n",
    "  # Third Layer  (Hidden)\n",
    "  # 64 nodes and the relu activation\n",
    "  model.add(Dense(64, activation='relu'))\n",
    "\n",
    "  # Fourth Layer  (Hidden)\n",
    "  # 64 nodes and the relu activation\n",
    "  model.add(Dense(64, activation='relu'))\n",
    "\n",
    "  # Fifth Layer  (Hidden)\n",
    "  # 32 nodes and the relu activation\n",
    "  model.add(Dense(32, activation='relu'))\n",
    "\n",
    "  # Batch Normalization layer (Normal)\n",
    "  model.add(BatchNormalization())\n",
    "\n",
    "  # Final Layer  (Output)\n",
    "  # activation as 'softmax' with 10 nodes \n",
    "  model.add(Dense(10, activation='softmax')) # Our classifier\n",
    "\n",
    "  # Compile the model\n",
    "  #  loss equal to categorical_crossentropy, \n",
    "  #  optimizer equal to Adam(learning_rate = 0.0005), and \n",
    "  #  metric equal to 'accuracy'\n",
    "  optimizer = Adam(learning_rate=0.0005)\n",
    "  model.compile(optimizer=optimizer, loss='categorical_crossentropy', metrics=['accuracy'])\n",
    "  return model"
   ]
  },
  {
   "cell_type": "code",
   "execution_count": 23,
   "metadata": {
    "executionInfo": {
     "elapsed": 40,
     "status": "ok",
     "timestamp": 1678824248105,
     "user": {
      "displayName": "Brent Thorne",
      "userId": "02880757590043568496"
     },
     "user_tz": 420
    },
    "id": "AKjDY4plnSFl"
   },
   "outputs": [],
   "source": [
    "# Build the model\n",
    "model_2 = nn_model_2()"
   ]
  },
  {
   "cell_type": "code",
   "execution_count": 24,
   "metadata": {
    "colab": {
     "base_uri": "https://localhost:8080/"
    },
    "executionInfo": {
     "elapsed": 523,
     "status": "ok",
     "timestamp": 1678824248589,
     "user": {
      "displayName": "Brent Thorne",
      "userId": "02880757590043568496"
     },
     "user_tz": 420
    },
    "id": "gz_6SVrU2swZ",
    "outputId": "8df85da4-83d8-4bdf-b860-f5036cab7e54"
   },
   "outputs": [
    {
     "name": "stdout",
     "output_type": "stream",
     "text": [
      "Model: \"sequential\"\n",
      "_________________________________________________________________\n",
      " Layer (type)                Output Shape              Param #   \n",
      "=================================================================\n",
      " dense (Dense)               (None, 256)               262400    \n",
      "                                                                 \n",
      " dense_1 (Dense)             (None, 128)               32896     \n",
      "                                                                 \n",
      " dropout (Dropout)           (None, 128)               0         \n",
      "                                                                 \n",
      " dense_2 (Dense)             (None, 64)                8256      \n",
      "                                                                 \n",
      " dense_3 (Dense)             (None, 64)                4160      \n",
      "                                                                 \n",
      " dense_4 (Dense)             (None, 32)                2080      \n",
      "                                                                 \n",
      " batch_normalization (BatchN  (None, 32)               128       \n",
      " ormalization)                                                   \n",
      "                                                                 \n",
      " dense_5 (Dense)             (None, 10)                330       \n",
      "                                                                 \n",
      "=================================================================\n",
      "Total params: 310,250\n",
      "Trainable params: 310,186\n",
      "Non-trainable params: 64\n",
      "_________________________________________________________________\n"
     ]
    }
   ],
   "source": [
    "# Print the summary\n",
    "model_2.summary()"
   ]
  },
  {
   "cell_type": "code",
   "execution_count": 25,
   "metadata": {
    "colab": {
     "base_uri": "https://localhost:8080/"
    },
    "executionInfo": {
     "elapsed": 47575,
     "status": "ok",
     "timestamp": 1678824296159,
     "user": {
      "displayName": "Brent Thorne",
      "userId": "02880757590043568496"
     },
     "user_tz": 420
    },
    "id": "IQ0Sc4R-y-uu",
    "outputId": "4f185148-48b2-4aaa-a037-d55562ef711a"
   },
   "outputs": [
    {
     "name": "stdout",
     "output_type": "stream",
     "text": [
      "Epoch 1/30\n",
      "263/263 [==============================] - 6s 8ms/step - loss: 2.3211 - accuracy: 0.1112 - val_loss: 2.2652 - val_accuracy: 0.1457\n",
      "Epoch 2/30\n",
      "263/263 [==============================] - 1s 5ms/step - loss: 2.0499 - accuracy: 0.2250 - val_loss: 1.9549 - val_accuracy: 0.2840\n",
      "Epoch 3/30\n",
      "263/263 [==============================] - 1s 5ms/step - loss: 1.6825 - accuracy: 0.4081 - val_loss: 1.4860 - val_accuracy: 0.5065\n",
      "Epoch 4/30\n",
      "263/263 [==============================] - 1s 5ms/step - loss: 1.4140 - accuracy: 0.5328 - val_loss: 1.2610 - val_accuracy: 0.5739\n",
      "Epoch 5/30\n",
      "263/263 [==============================] - 1s 5ms/step - loss: 1.2704 - accuracy: 0.5885 - val_loss: 1.1866 - val_accuracy: 0.6096\n",
      "Epoch 6/30\n",
      "263/263 [==============================] - 2s 7ms/step - loss: 1.1749 - accuracy: 0.6217 - val_loss: 1.0733 - val_accuracy: 0.6564\n",
      "Epoch 7/30\n",
      "263/263 [==============================] - 2s 7ms/step - loss: 1.1149 - accuracy: 0.6432 - val_loss: 1.0450 - val_accuracy: 0.6630\n",
      "Epoch 8/30\n",
      "263/263 [==============================] - 1s 5ms/step - loss: 1.0589 - accuracy: 0.6617 - val_loss: 0.9894 - val_accuracy: 0.6898\n",
      "Epoch 9/30\n",
      "263/263 [==============================] - 2s 7ms/step - loss: 1.0207 - accuracy: 0.6737 - val_loss: 0.9226 - val_accuracy: 0.7111\n",
      "Epoch 10/30\n",
      "263/263 [==============================] - 2s 7ms/step - loss: 0.9898 - accuracy: 0.6838 - val_loss: 0.9274 - val_accuracy: 0.7080\n",
      "Epoch 11/30\n",
      "263/263 [==============================] - 1s 5ms/step - loss: 0.9566 - accuracy: 0.6974 - val_loss: 0.9053 - val_accuracy: 0.7125\n",
      "Epoch 12/30\n",
      "263/263 [==============================] - 1s 5ms/step - loss: 0.9292 - accuracy: 0.7034 - val_loss: 0.8778 - val_accuracy: 0.7220\n",
      "Epoch 13/30\n",
      "263/263 [==============================] - 1s 5ms/step - loss: 0.9054 - accuracy: 0.7160 - val_loss: 0.8415 - val_accuracy: 0.7327\n",
      "Epoch 14/30\n",
      "263/263 [==============================] - 1s 5ms/step - loss: 0.8870 - accuracy: 0.7176 - val_loss: 0.8927 - val_accuracy: 0.7212\n",
      "Epoch 15/30\n",
      "263/263 [==============================] - 1s 5ms/step - loss: 0.8765 - accuracy: 0.7195 - val_loss: 0.8804 - val_accuracy: 0.7223\n",
      "Epoch 16/30\n",
      "263/263 [==============================] - 1s 5ms/step - loss: 0.8660 - accuracy: 0.7249 - val_loss: 0.8288 - val_accuracy: 0.7392\n",
      "Epoch 17/30\n",
      "263/263 [==============================] - 1s 5ms/step - loss: 0.8522 - accuracy: 0.7293 - val_loss: 0.7929 - val_accuracy: 0.7475\n",
      "Epoch 18/30\n",
      "263/263 [==============================] - 2s 6ms/step - loss: 0.8385 - accuracy: 0.7351 - val_loss: 0.7854 - val_accuracy: 0.7573\n",
      "Epoch 19/30\n",
      "263/263 [==============================] - 2s 6ms/step - loss: 0.8223 - accuracy: 0.7376 - val_loss: 0.8344 - val_accuracy: 0.7324\n",
      "Epoch 20/30\n",
      "263/263 [==============================] - 2s 7ms/step - loss: 0.8184 - accuracy: 0.7404 - val_loss: 0.7560 - val_accuracy: 0.7586\n",
      "Epoch 21/30\n",
      "263/263 [==============================] - 1s 5ms/step - loss: 0.8159 - accuracy: 0.7399 - val_loss: 0.8222 - val_accuracy: 0.7448\n",
      "Epoch 22/30\n",
      "263/263 [==============================] - 1s 5ms/step - loss: 0.7886 - accuracy: 0.7501 - val_loss: 0.7868 - val_accuracy: 0.7513\n",
      "Epoch 23/30\n",
      "263/263 [==============================] - 1s 5ms/step - loss: 0.7782 - accuracy: 0.7538 - val_loss: 0.7415 - val_accuracy: 0.7707\n",
      "Epoch 24/30\n",
      "263/263 [==============================] - 1s 5ms/step - loss: 0.7697 - accuracy: 0.7546 - val_loss: 0.7617 - val_accuracy: 0.7645\n",
      "Epoch 25/30\n",
      "263/263 [==============================] - 1s 5ms/step - loss: 0.7553 - accuracy: 0.7627 - val_loss: 0.7517 - val_accuracy: 0.7650\n",
      "Epoch 26/30\n",
      "263/263 [==============================] - 1s 5ms/step - loss: 0.7493 - accuracy: 0.7625 - val_loss: 0.7807 - val_accuracy: 0.7567\n",
      "Epoch 27/30\n",
      "263/263 [==============================] - 1s 6ms/step - loss: 0.7443 - accuracy: 0.7638 - val_loss: 0.7589 - val_accuracy: 0.7621\n",
      "Epoch 28/30\n",
      "263/263 [==============================] - 2s 7ms/step - loss: 0.7356 - accuracy: 0.7643 - val_loss: 0.7293 - val_accuracy: 0.7721\n",
      "Epoch 29/30\n",
      "263/263 [==============================] - 2s 6ms/step - loss: 0.7209 - accuracy: 0.7701 - val_loss: 0.7526 - val_accuracy: 0.7654\n",
      "Epoch 30/30\n",
      "263/263 [==============================] - 1s 5ms/step - loss: 0.7181 - accuracy: 0.7710 - val_loss: 0.7342 - val_accuracy: 0.7718\n"
     ]
    }
   ],
   "source": [
    "# Fit the model to training data\n",
    "#  validation split of 0.2,\n",
    "#  batch size = 128,\n",
    "#  verbose = 1, and\n",
    "#  epochs = 30*\n",
    "history_model_2 = model_2.fit(X_train, y_train,\n",
    "                              validation_data=(X_validation, y_validation),\n",
    "                              batch_size = 128,\n",
    "                              verbose = 1,\n",
    "                              epochs=30)"
   ]
  },
  {
   "cell_type": "markdown",
   "metadata": {
    "id": "6UjEIbPM0XIX"
   },
   "source": [
    "### **Plotting the validation and training accuracies**"
   ]
  },
  {
   "cell_type": "markdown",
   "metadata": {
    "id": "ZJYsvjmw0XIX"
   },
   "source": [
    "### **Question 5: Write your observations on the below plot. (2 Marks)**\n",
    "<font color='green'>$\\checkmark$</font> "
   ]
  },
  {
   "cell_type": "code",
   "execution_count": 26,
   "metadata": {
    "colab": {
     "base_uri": "https://localhost:8080/",
     "height": 498
    },
    "executionInfo": {
     "elapsed": 22,
     "status": "ok",
     "timestamp": 1678824296161,
     "user": {
      "displayName": "Brent Thorne",
      "userId": "02880757590043568496"
     },
     "user_tz": 420
    },
    "id": "01ig6BrF1KVy",
    "outputId": "00cf37f6-0fa5-429a-bb1b-5f9d373f57fd"
   },
   "outputs": [
    {
     "data": {
      "image/png": "[encoded data removed]",
      "text/plain": [
       "<Figure size 576x576 with 1 Axes>"
      ]
     },
     "metadata": {
      "needs_background": "light"
     },
     "output_type": "display_data"
    }
   ],
   "source": [
    "# Plotting the accuracies\n",
    "dict_hist = history_model_2.history\n",
    "list_ep = [i for i in range(1, 31)]\n",
    "\n",
    "plt.figure(figsize = (8, 8))\n",
    "plt.plot(list_ep, dict_hist['accuracy'], ls = '--', label = 'accuracy')\n",
    "plt.plot(list_ep, dict_hist['val_accuracy'], ls = '--', label = 'val_accuracy')\n",
    "plt.ylabel('Accuracy')\n",
    "plt.xlabel('Epochs')\n",
    "plt.legend()\n",
    "plt.show()"
   ]
  },
  {
   "cell_type": "code",
   "execution_count": 27,
   "metadata": {
    "colab": {
     "base_uri": "https://localhost:8080/"
    },
    "executionInfo": {
     "elapsed": 710,
     "status": "ok",
     "timestamp": 1678824296854,
     "user": {
      "displayName": "Brent Thorne",
      "userId": "02880757590043568496"
     },
     "user_tz": 420
    },
    "id": "j16U7CV2Ce8K",
    "outputId": "d52cbe7c-d7a1-4a99-b549-872c35845eab"
   },
   "outputs": [
    {
     "name": "stdout",
     "output_type": "stream",
     "text": [
      "263/263 - 1s - loss: 0.7342 - accuracy: 0.7718 - 554ms/epoch - 2ms/step\n"
     ]
    },
    {
     "data": {
      "text/plain": [
       "[0.7341617345809937, 0.7717857360839844]"
      ]
     },
     "execution_count": 27,
     "metadata": {},
     "output_type": "execute_result"
    }
   ],
   "source": [
    "# Show validation results\n",
    "model_2.evaluate(X_validation, y_validation, verbose = 2)"
   ]
  },
  {
   "cell_type": "markdown",
   "metadata": {
    "id": "VPW1LlD61RDn"
   },
   "source": [
    "**Observations:**\n",
    "- From the plots above we see an improvement with this model. \n",
    "- The validation accuracy closely fitting the training set, with a accuracy of ~78%, up from the previous 67%.\n",
    "- With a loss of ~0.69 this model's classifcation ablity has greatly improved.\n",
    "\n"
   ]
  },
  {
   "cell_type": "markdown",
   "metadata": {
    "id": "8kuXx9Bvu00f"
   },
   "source": [
    "## **Predictions on the test data**\n",
    "\n",
    "- Make predictions on the test set using the second model.\n",
    "- Print the obtained results using the classification report and the confusion matrix.\n",
    "- Final observations on the obtained results."
   ]
  },
  {
   "cell_type": "code",
   "execution_count": 28,
   "metadata": {
    "colab": {
     "base_uri": "https://localhost:8080/"
    },
    "executionInfo": {
     "elapsed": 1444,
     "status": "ok",
     "timestamp": 1678824298292,
     "user": {
      "displayName": "Brent Thorne",
      "userId": "02880757590043568496"
     },
     "user_tz": 420
    },
    "id": "xbWMEtTj5Ad0",
    "outputId": "b3d363ae-49e4-419d-fbaa-cd5de0322dcc"
   },
   "outputs": [
    {
     "name": "stdout",
     "output_type": "stream",
     "text": [
      "563/563 [==============================] - 1s 2ms/step\n"
     ]
    }
   ],
   "source": [
    "test_pred = model_2.predict(X_test)\n",
    "test_pred = np.argmax(test_pred, axis = -1)"
   ]
  },
  {
   "cell_type": "markdown",
   "metadata": {
    "id": "i3li8Ib08yts"
   },
   "source": [
    "**Note:** Earlier, we noticed that each entry of the target variable is a one-hot encoded vector but to print the classification report and confusion matrix, we must convert each entry of y_test to a single label."
   ]
  },
  {
   "cell_type": "code",
   "execution_count": 29,
   "metadata": {
    "executionInfo": {
     "elapsed": 10,
     "status": "ok",
     "timestamp": 1678824298293,
     "user": {
      "displayName": "Brent Thorne",
      "userId": "02880757590043568496"
     },
     "user_tz": 420
    },
    "id": "NByu7uAQ8x9P"
   },
   "outputs": [],
   "source": [
    "# Converting each entry to single label from one-hot encoded vector\n",
    "y_test = np.argmax(y_test, axis = -1)"
   ]
  },
  {
   "cell_type": "markdown",
   "metadata": {
    "id": "1_SIoopr0XIg"
   },
   "source": [
    "### **Question 6: Print the classification report and the confusion matrix for the test predictions. Write your observations on the final results. (4 Marks)**\n",
    "<font color='green'>$\\checkmark$</font> "
   ]
  },
  {
   "cell_type": "code",
   "execution_count": 30,
   "metadata": {
    "colab": {
     "base_uri": "https://localhost:8080/",
     "height": 629
    },
    "executionInfo": {
     "elapsed": 1571,
     "status": "ok",
     "timestamp": 1678824299856,
     "user": {
      "displayName": "Brent Thorne",
      "userId": "02880757590043568496"
     },
     "user_tz": 420
    },
    "id": "xRddeJ-3EHT1",
    "outputId": "be96d2cf-6a1d-4a54-ab00-b2d57f1c01b8"
   },
   "outputs": [
    {
     "name": "stdout",
     "output_type": "stream",
     "text": [
      "              precision    recall  f1-score   support\n",
      "\n",
      "           0       0.90      0.72      0.80      1814\n",
      "           1       0.73      0.82      0.77      1828\n",
      "           2       0.74      0.82      0.78      1803\n",
      "           3       0.75      0.71      0.73      1719\n",
      "           4       0.81      0.81      0.81      1812\n",
      "           5       0.69      0.75      0.72      1768\n",
      "           6       0.85      0.70      0.77      1832\n",
      "           7       0.88      0.76      0.81      1808\n",
      "           8       0.76      0.70      0.73      1812\n",
      "           9       0.63      0.82      0.71      1804\n",
      "\n",
      "    accuracy                           0.76     18000\n",
      "   macro avg       0.77      0.76      0.76     18000\n",
      "weighted avg       0.77      0.76      0.76     18000\n",
      "\n"
     ]
    },
    {
     "data": {
      "image/png": "[encoded data removed]",
      "text/plain": [
       "<Figure size 576x360 with 2 Axes>"
      ]
     },
     "metadata": {
      "needs_background": "light"
     },
     "output_type": "display_data"
    }
   ],
   "source": [
    "# Importing required functions\n",
    "from sklearn.metrics import classification_report\n",
    "from sklearn.metrics import confusion_matrix\n",
    "\n",
    "# Printing the classification report\n",
    "print(classification_report(y_test, test_pred))\n",
    "\n",
    "# Plotting the heatmap using confusion matrix\n",
    "#  Write the code for creating confusion matrix using \n",
    "#  actual labels (y_test) and predicted labels (test_pred)\n",
    "cm = confusion_matrix(y_test, test_pred)\n",
    "\n",
    "plt.figure(figsize = (8, 5))\n",
    "sns.heatmap(cm, annot = True,  fmt = '.0f')\n",
    "plt.ylabel('Actual')\n",
    "plt.xlabel('Predicted')\n",
    "plt.show()"
   ]
  },
  {
   "cell_type": "markdown",
   "metadata": {
    "id": "DjErl4GA2u9s"
   },
   "source": [
    "**Final Observations:**\n",
    "- The precision, recall and f1-score values are all around 78% which seems okay considering the image quality of the visualized samples.  \n",
    "\n",
    "- The next step might be to analyze the misclassified images and see if we gleen some understanding into how to improve the model.\n",
    "  - We can clearly see an issue between certain characters such as 5-3 and 5-8. \n",
    "  - Maybe we could weight the classifiers to improve the results.\n",
    "  - We might also try to address the over-fitting by adding other dropout layer.\n",
    "\n",
    "Note: For the sake of brevity and clarity we have omitted our further experiments with this model, which mostly resulted in over fitting.\n"
   ]
  },
  {
   "cell_type": "markdown",
   "metadata": {
    "id": "y7aXIfxsHf_p"
   },
   "source": [
    "# **Summary**\n",
    "\n",
    "## Objective and Dataset\n",
    "The objective for this project was to learn and classify address numbers from a patch of pixels.  A subset of the Street View Housing Numbers (SVHN) image dataset was used in this project.  Each image was comprised of 32-by-32 grey scales pixels. \n",
    "\n",
    "## Approach\n",
    "\n",
    "An ANN model was used to recognize the digits in the images. The images were reshaping from the 2D image into 1D array for this architecure. Two Model Architectures were tested each with increasing layer complexity.   \n",
    "\n",
    "## Key Findings\n",
    "\n",
    "We saw an increase in epoch compute time as the complexity grew. Also as the complexity increased the total parameters increased from 68,010 to 320,627, even though dropout layers where used. The final was well fitted with precision, recall and f1-score values all above 78%.\n",
    "\n",
    "## Conclusions and Recommendations\n",
    "\n",
    "The next step might be to analyze the misclassified images and see if we gleen some understanding into how to improve the model. We can clearly see an issue between certain characters such as 5-3 and 5-8. Maybe we could weight the classifiers to improve the results. We might also try to address the over-fitting by adding another dropout layer.\n",
    "\n",
    "Augmenting the training data with rotated images, area masking, random earsing, mixed image, kernel filters and noise are ways we improve model training without any changes to the architecture. We might consider implimenting this."
   ]
  }
 ],
 "metadata": {
  "accelerator": "GPU",
  "colab": {
   "provenance": [],
   "toc_visible": true
  },
  "gpuClass": "standard",
  "kernelspec": {
   "display_name": "Python 3 (ipykernel)",
   "language": "python",
   "name": "python3"
  },
  "language_info": {
   "codemirror_mode": {
    "name": "ipython",
    "version": 3
   },
   "file_extension": ".py",
   "mimetype": "text/x-python",
   "name": "python",
   "nbconvert_exporter": "python",
   "pygments_lexer": "ipython3",
   "version": "3.10.10"
  }
 },
 "nbformat": 4,
 "nbformat_minor": 4
}
