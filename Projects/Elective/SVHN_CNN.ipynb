{
 "cells": [
  {
   "cell_type": "markdown",
   "metadata": {
    "id": "Q91KqmCRu64D"
   },
   "source": [
    "# **Convolutional Neural Networks Project: Street View Housing Number Digit Recognition**\n",
    "\n",
    "# **Marks: 30**\n",
    "\n",
    "Welcome to the project on classification using Convolutional Neural Networks. We will continue to work with the Street View Housing Numbers (SVHN) image dataset for this project.\n",
    "\n",
    "--------------\n",
    "## **Context** \n",
    "--------------\n",
    "\n",
    "One of the most interesting tasks in deep learning is to recognize objects in natural scenes. The ability to process visual information using machine learning algorithms can be very useful as demonstrated in various applications.\n",
    "\n",
    "The SVHN dataset contains over 600,000 labeled digits cropped from street-level photos. It is one of the most popular image recognition datasets. It has been used in neural networks created by Google to improve the map quality by automatically transcribing the address numbers from a patch of pixels. The transcribed number with a known street address helps pinpoint the location of the building it represents. \n",
    "\n",
    "----------------\n",
    "## **Objective**\n",
    "----------------\n",
    "\n",
    "To build a CNN model that can recognize the digits in the images.\n",
    "\n",
    "-------------\n",
    "## **Dataset**\n",
    "-------------\n",
    "Here, we will use a subset of the original data to save some computation time. The dataset is provided as a .h5 file. The basic preprocessing steps have been applied on the dataset."
   ]
  },
  {
   "cell_type": "markdown",
   "metadata": {
    "id": "8z2Z7-OAs8QG"
   },
   "source": [
    "## **Mount the drive**\n",
    "\n",
    "Let us start by mounting the Google drive. You can run the below cell to mount the Google drive."
   ]
  },
  {
   "cell_type": "code",
   "execution_count": 1,
   "metadata": {
    "colab": {
     "base_uri": "https://localhost:8080/"
    },
    "id": "03lDyQUuef7z",
    "outputId": "8ae5030d-5fee-4def-d63d-8a7dd0bf9bca"
   },
   "outputs": [],
   "source": [
    "LOCAL = True\n",
    "\n",
    "if LOCAL:\n",
    "    path='.'\n",
    "else:\n",
    "    from google.colab import drive\n",
    "    drive.mount('/content/drive')\n",
    "    path='/content/drive/MyDrive'"
   ]
  },
  {
   "cell_type": "markdown",
   "metadata": {
    "id": "C8U3DUa3eNsT"
   },
   "source": [
    "## **Importing the necessary libraries**"
   ]
  },
  {
   "cell_type": "code",
   "execution_count": 2,
   "metadata": {
    "id": "-dVzeuF3eQx1"
   },
   "outputs": [
    {
     "name": "stderr",
     "output_type": "stream",
     "text": [
      "2023-03-09 07:45:52.185188: I tensorflow/core/platform/cpu_feature_guard.cc:193] This TensorFlow binary is optimized with oneAPI Deep Neural Network Library (oneDNN) to use the following CPU instructions in performance-critical operations:  SSE4.1 SSE4.2\n",
      "To enable them in other operations, rebuild TensorFlow with the appropriate compiler flags.\n"
     ]
    }
   ],
   "source": [
    "import numpy as np\n",
    "import pandas as pd\n",
    "import matplotlib.pyplot as plt\n",
    "import seaborn as sns\n",
    "\n",
    "import sklearn as sk # only used for versioning\n",
    "from sklearn.model_selection import train_test_split\n",
    "from sklearn.preprocessing import MinMaxScaler\n",
    "\n",
    "import os\n",
    "os.environ[\"CUDA_VISIBLE_DEVICES\"] = '' ## use CPU because my GPU is weak but my will is strong\n",
    "# os.environ[\"CUDA_VISIBLE_DEVICES\"] = '-1' # back to GPU... Nope, not enough GPU memory ;-(\n",
    "\n",
    "import tensorflow as tf\n",
    "import tensorflow.keras as keras # only used for versioning\n",
    "\n",
    "from tensorflow.keras.models import Sequential\n",
    "from tensorflow.keras.layers import Dense, Conv2D, MaxPooling2D, BatchNormalization, Dropout, Flatten, LeakyReLU\n",
    "from tensorflow.keras.losses import categorical_crossentropy\n",
    "from tensorflow.keras.optimizers import Adam\n",
    "from tensorflow.keras.utils import to_categorical\n",
    "\n",
    "import gc # garbage collection\n",
    "import sys # only used for versioning\n",
    " \n",
    "from tensorflow.python.client import device_lib "
   ]
  },
  {
   "cell_type": "markdown",
   "metadata": {
    "id": "ucnevGLoyKf_"
   },
   "source": [
    "**Let us check the version of tensorflow.**"
   ]
  },
  {
   "cell_type": "code",
   "execution_count": 3,
   "metadata": {},
   "outputs": [
    {
     "name": "stdout",
     "output_type": "stream",
     "text": [
      "Tensor Flow Version: 2.10.0\n",
      "Keras Version: 2.10.0\n",
      "Python 3.10.4 | packaged by conda-forge | (main, Mar 24 2022, 17:38:57) [GCC 10.3.0]\n",
      "Pandas 1.5.3\n",
      "Scikit-Learn 1.2.1\n",
      "GPU is NOT AVAILABLE\n",
      "\n",
      "System Info:\n",
      "[name: \"/device:CPU:0\"\n",
      "device_type: \"CPU\"\n",
      "memory_limit: 268435456\n",
      "locality {\n",
      "}\n",
      "incarnation: 861465633913683967\n",
      "xla_global_id: -1\n",
      "]\n"
     ]
    },
    {
     "name": "stderr",
     "output_type": "stream",
     "text": [
      "2023-03-09 07:45:54.097465: E tensorflow/stream_executor/cuda/cuda_driver.cc:265] failed call to cuInit: CUDA_ERROR_NO_DEVICE: no CUDA-capable device is detected\n",
      "2023-03-09 07:45:54.097526: I tensorflow/stream_executor/cuda/cuda_diagnostics.cc:169] retrieving CUDA diagnostic information for host: hellway\n",
      "2023-03-09 07:45:54.097548: I tensorflow/stream_executor/cuda/cuda_diagnostics.cc:176] hostname: hellway\n",
      "2023-03-09 07:45:54.097695: I tensorflow/stream_executor/cuda/cuda_diagnostics.cc:200] libcuda reported version is: 470.161.3\n",
      "2023-03-09 07:45:54.097829: I tensorflow/stream_executor/cuda/cuda_diagnostics.cc:204] kernel reported version is: 470.161.3\n",
      "2023-03-09 07:45:54.097842: I tensorflow/stream_executor/cuda/cuda_diagnostics.cc:310] kernel version seems to match DSO: 470.161.3\n",
      "2023-03-09 07:45:54.099030: I tensorflow/core/platform/cpu_feature_guard.cc:193] This TensorFlow binary is optimized with oneAPI Deep Neural Network Library (oneDNN) to use the following CPU instructions in performance-critical operations:  SSE4.1 SSE4.2\n",
      "To enable them in other operations, rebuild TensorFlow with the appropriate compiler flags.\n"
     ]
    }
   ],
   "source": [
    "print(f\"Tensor Flow Version: {tf.__version__}\")\n",
    "print(f\"Keras Version: {keras.__version__}\")\n",
    "print(f\"Python {sys.version}\")\n",
    "print(f\"Pandas {pd.__version__}\")\n",
    "print(f\"Scikit-Learn {sk.__version__}\")\n",
    "gpu = len(tf.config.list_physical_devices('GPU'))>0\n",
    "print(\"GPU is\", \"available\" if gpu else \"NOT AVAILABLE\")\n",
    "print()\n",
    "print('System Info:')\n",
    "print(device_lib.list_local_devices())"
   ]
  },
  {
   "cell_type": "markdown",
   "metadata": {
    "id": "8lsux2ZwyTTR"
   },
   "source": [
    "## **Load the dataset**\n",
    "\n",
    "- Let us now load the dataset that is available as a .h5 file.\n",
    "- Split the data into the train and the test dataset."
   ]
  },
  {
   "cell_type": "code",
   "execution_count": 4,
   "metadata": {
    "id": "BApX9qgNsqV0",
    "scrolled": true
   },
   "outputs": [],
   "source": [
    "import h5py\n",
    "\n",
    "# Open the file as read only\n",
    "# User can make changes in the path as required\n",
    "h5f = h5py.File(f'{path}/SVHN_single_grey1.h5', 'r')\n",
    "\n",
    "# Load the the train and the test dataset\n",
    "X_train = h5f['X_train'][:]\n",
    "y_train = h5f['y_train'][:]\n",
    "X_test = h5f['X_test'][:]\n",
    "y_test = h5f['y_test'][:]\n",
    "\n",
    "\n",
    "# Close this file\n",
    "h5f.close()"
   ]
  },
  {
   "cell_type": "markdown",
   "metadata": {
    "id": "hVe0CYpUgj7w"
   },
   "source": [
    "Let's check the number of images in the training and the testing dataset."
   ]
  },
  {
   "cell_type": "code",
   "execution_count": 5,
   "metadata": {
    "colab": {
     "base_uri": "https://localhost:8080/"
    },
    "id": "y3lwKpOefkpA",
    "outputId": "fcce776c-77e9-4448-e653-89e677a83ec9"
   },
   "outputs": [
    {
     "data": {
      "text/plain": [
       "(42000, 18000)"
      ]
     },
     "execution_count": 5,
     "metadata": {},
     "output_type": "execute_result"
    }
   ],
   "source": [
    "len(X_train), len(X_test)"
   ]
  },
  {
   "cell_type": "markdown",
   "metadata": {
    "id": "akTUOfLlgwoM"
   },
   "source": [
    "**Observation:**\n",
    "- There are 42,000 images in the training data and 18,000 images in the testing data. "
   ]
  },
  {
   "cell_type": "markdown",
   "metadata": {
    "id": "kxODV6HKykuc"
   },
   "source": [
    "## **Visualizing images**\n",
    "\n",
    "- Use X_train to visualize the first 10 images.\n",
    "- Use Y_train to print the first 10 labels."
   ]
  },
  {
   "cell_type": "markdown",
   "metadata": {
    "id": "giALtffZKDNq"
   },
   "source": [
    "### **Question 1: Complete the below code to visualize the first 10 images in the dataset. (1 Mark)**"
   ]
  },
  {
   "cell_type": "code",
   "execution_count": 6,
   "metadata": {
    "colab": {
     "base_uri": "https://localhost:8080/",
     "height": 95
    },
    "id": "Bvsc8ytHsqWD",
    "outputId": "a2a6d77c-4a84-4815-807e-d7d44912122b"
   },
   "outputs": [
    {
     "data": {
      "image/png": "[encoded data removed]",
      "text/plain": [
       "<Figure size 1000x100 with 10 Axes>"
      ]
     },
     "metadata": {},
     "output_type": "display_data"
    },
    {
     "name": "stdout",
     "output_type": "stream",
     "text": [
      "label for each of the above image: [2 6 7 4 4 0 3 0 7 3]\n"
     ]
    }
   ],
   "source": [
    "# Visualizing the first 10 images in the dataset and printing their labels\n",
    "%matplotlib inline\n",
    "import matplotlib.pyplot as plt\n",
    "\n",
    "plt.figure(figsize = (10, 1))\n",
    "for i in range(10):\n",
    "    plt.subplot(1, 10, i+1)    \n",
    "    plt.imshow(X_train[i], cmap = \"gray\")  # Write the function to visualize images\n",
    "    plt.axis('off')\n",
    "plt.show()\n",
    "\n",
    "print('label for each of the above image: %s' % (y_train[0:10]))"
   ]
  },
  {
   "cell_type": "markdown",
   "metadata": {
    "id": "kzoyeXHOy80N"
   },
   "source": [
    "## **Data preparation**\n",
    "\n",
    "- Print the shape and the array of pixels for the first image in the training dataset.\n",
    "- Reshape the train and the test dataset because we always have to give a 4D array as input to CNNs.\n",
    "- Normalize the train and the test dataset by dividing by 255.\n",
    "- Print the new shapes of the train and the test dataset.\n",
    "- One-hot encode the target variable."
   ]
  },
  {
   "cell_type": "code",
   "execution_count": 7,
   "metadata": {
    "colab": {
     "base_uri": "https://localhost:8080/"
    },
    "id": "NqndzQXng9rL",
    "outputId": "56e3e998-d956-40e7-944a-454533a9d704"
   },
   "outputs": [
    {
     "name": "stdout",
     "output_type": "stream",
     "text": [
      "Shape: (32, 32)\n",
      "\n",
      "First image:\n",
      " [[ 33.0704  30.2601  26.852  ...  71.4471  58.2204  42.9939]\n",
      " [ 25.2283  25.5533  29.9765 ... 113.0209 103.3639  84.2949]\n",
      " [ 26.2775  22.6137  40.4763 ... 113.3028 121.775  115.4228]\n",
      " ...\n",
      " [ 28.5502  36.212   45.0801 ...  24.1359  25.0927  26.0603]\n",
      " [ 38.4352  26.4733  23.2717 ...  28.1094  29.4683  30.0661]\n",
      " [ 50.2984  26.0773  24.0389 ...  49.6682  50.853   53.0377]]\n"
     ]
    }
   ],
   "source": [
    "# Shape and the array of pixels for the first image\n",
    "print(\"Shape:\", X_train[0].shape)\n",
    "print()\n",
    "print(\"First image:\\n\", X_train[0])"
   ]
  },
  {
   "cell_type": "code",
   "execution_count": 8,
   "metadata": {
    "id": "D9YPwf9ysqWU"
   },
   "outputs": [],
   "source": [
    "# Reshaping the dataset to be able to pass them to CNNs. Remember that we always have to give a 4D array as input to CNNs\n",
    "X_train = X_train.reshape(X_train.shape[0], 32, 32, 1)\n",
    "X_test = X_test.reshape(X_test.shape[0], 32, 32, 1)"
   ]
  },
  {
   "cell_type": "code",
   "execution_count": 9,
   "metadata": {
    "id": "q_yUUTp_mUzB"
   },
   "outputs": [],
   "source": [
    "# Normalize inputs from 0-255 to 0-1\n",
    "X_train = X_train/255.0\n",
    "X_test = X_test/255.0"
   ]
  },
  {
   "cell_type": "code",
   "execution_count": 10,
   "metadata": {
    "colab": {
     "base_uri": "https://localhost:8080/"
    },
    "id": "t7FSqOpamWkH",
    "outputId": "b00fe349-fab5-4adf-a771-6c4e17c8a51a"
   },
   "outputs": [
    {
     "name": "stdout",
     "output_type": "stream",
     "text": [
      "Training set: (42000, 32, 32, 1) (42000,)\n",
      "Test set: (18000, 32, 32, 1) (18000,)\n"
     ]
    }
   ],
   "source": [
    "# New shape \n",
    "print('Training set:', X_train.shape, y_train.shape)\n",
    "print('Test set:', X_test.shape, y_test.shape)"
   ]
  },
  {
   "cell_type": "markdown",
   "metadata": {
    "id": "10QaOV-xR7Jn"
   },
   "source": [
    "### **Question 2: One-hot encode the labels in the target variable y_train and y_test. (2 Marks)**"
   ]
  },
  {
   "cell_type": "code",
   "execution_count": 11,
   "metadata": {
    "colab": {
     "base_uri": "https://localhost:8080/"
    },
    "id": "zL0lYER4sqWw",
    "outputId": "0aaaa347-d870-49e6-8fb3-4e250daeeac5"
   },
   "outputs": [
    {
     "data": {
      "text/plain": [
       "array([[0., 1., 0., ..., 0., 0., 0.],\n",
       "       [0., 0., 0., ..., 1., 0., 0.],\n",
       "       [0., 0., 1., ..., 0., 0., 0.],\n",
       "       ...,\n",
       "       [0., 0., 0., ..., 1., 0., 0.],\n",
       "       [0., 0., 0., ..., 0., 0., 1.],\n",
       "       [0., 0., 1., ..., 0., 0., 0.]], dtype=float32)"
      ]
     },
     "execution_count": 11,
     "metadata": {},
     "output_type": "execute_result"
    }
   ],
   "source": [
    "# Write the function and appropriate variable name to one-hot encode the output\n",
    "y_train = to_categorical(y_train)\n",
    "y_test = to_categorical(y_test)\n",
    "\n",
    "# Test labels\n",
    "y_test"
   ]
  },
  {
   "cell_type": "markdown",
   "metadata": {
    "id": "ViqPOTquCF76"
   },
   "source": [
    "**Observation:**\n",
    "- Notice that each entry of the target variable is a one-hot encoded vector instead of a single label."
   ]
  },
  {
   "cell_type": "markdown",
   "metadata": {
    "id": "yH-gVrzuByNA"
   },
   "source": [
    "## **Model Building**\n",
    "\n",
    "Now that we have done data preprocessing, let's build a CNN model."
   ]
  },
  {
   "cell_type": "code",
   "execution_count": 12,
   "metadata": {
    "id": "ZY5pyF4-KDNt"
   },
   "outputs": [],
   "source": [
    "# Fix the seed for random number generators\n",
    "np.random.seed(42)\n",
    "\n",
    "import random\n",
    "random.seed(42)\n",
    "tf.random.set_seed(42)"
   ]
  },
  {
   "cell_type": "markdown",
   "metadata": {
    "id": "UJDUoaEj1d6e"
   },
   "source": [
    "### **Model Architecture**\n",
    "- **Write a function** that returns a sequential model with the following architecture:\n",
    " - First Convolutional layer with **16 filters and the kernel size of 3x3**. Use the **'same' padding** and provide the **input shape = (32, 32, 1)**\n",
    " - Add a **LeakyRelu layer** with the **slope equal to 0.1**\n",
    " - Second Convolutional layer with **32 filters and the kernel size of 3x3 with 'same' padding**\n",
    " - Another **LeakyRelu** with the **slope equal to 0.1**\n",
    " - A **max-pooling layer** with a **pool size of 2x2**\n",
    " - **Flatten** the output from the previous layer\n",
    " - Add a **dense layer with 32 nodes**\n",
    " - Add a **LeakyRelu layer with the slope equal to 0.1**\n",
    " - Add the final **output layer with nodes equal to the number of classes, i.e., 10** and **'softmax' as the activation function**\n",
    " - Compile the model with the **loss equal to categorical_crossentropy, optimizer equal to Adam(learning_rate = 0.001), and metric equal to 'accuracy'**. Do not fit the model here, just return the compiled model.\n",
    "- Call the function cnn_model_1 and store the output in a new variable.\n",
    "- Print the summary of the model.\n",
    "- Fit the model on the training data with a **validation split of 0.2, batch size = 32, verbose = 1, and epochs = 20**. Store the model building history to use later for visualization."
   ]
  },
  {
   "cell_type": "markdown",
   "metadata": {
    "id": "JWsAd45JKDNu"
   },
   "source": [
    "### **Question 3: Build and train a CNN model as per the above mentioned architecture. (10 Marks)**"
   ]
  },
  {
   "cell_type": "code",
   "execution_count": 13,
   "metadata": {
    "id": "Cmi81Gr5sqW-"
   },
   "outputs": [],
   "source": [
    "def cnn_model_1():\n",
    "    \n",
    "    # Define the model\n",
    "    model = Sequential() \n",
    "    \n",
    "    # Add layers as per the architecture mentioned above in the same sequence\n",
    "    \n",
    "    # First Convolutional Block\n",
    "    model.add(Conv2D(16, (3, 3), input_shape = (32, 32, 1), padding = 'same'))\n",
    "    model.add(LeakyReLU(0.1))\n",
    "    \n",
    "    # Second Convolutional Block\n",
    "    model.add(Conv2D(32, (3, 3), padding = 'same'))\n",
    "    model.add(LeakyReLU(0.1))\n",
    "    model.add(MaxPooling2D(2, 2))\n",
    "    model.add(Flatten())\n",
    "\n",
    "    # Fully Connected Block\n",
    "    model.add(Dense(32))\n",
    "    model.add(LeakyReLU(0.1))\n",
    "    \n",
    "    # Classifier\n",
    "    model.add(Dense(10, activation = 'softmax')) # 10 classes for numberals 0-9\n",
    "\n",
    "    # Optimizer\n",
    "    adam = Adam(learning_rate = 0.001)\n",
    "   \n",
    "    # Compile the model\n",
    "    model.compile(optimizer='adam', loss='categorical_crossentropy', metrics=['accuracy'])\n",
    "    \n",
    "    return model"
   ]
  },
  {
   "cell_type": "code",
   "execution_count": 14,
   "metadata": {
    "id": "bGCUI_xsImnH"
   },
   "outputs": [],
   "source": [
    "# Build the model\n",
    "model_1 = cnn_model_1()"
   ]
  },
  {
   "cell_type": "code",
   "execution_count": 15,
   "metadata": {
    "colab": {
     "base_uri": "https://localhost:8080/"
    },
    "id": "ckJsLdmdQadZ",
    "outputId": "1eac91de-605a-457e-b0ec-5827c2d77561"
   },
   "outputs": [
    {
     "name": "stdout",
     "output_type": "stream",
     "text": [
      "Model: \"sequential\"\n",
      "_________________________________________________________________\n",
      " Layer (type)                Output Shape              Param #   \n",
      "=================================================================\n",
      " conv2d (Conv2D)             (None, 32, 32, 16)        160       \n",
      "                                                                 \n",
      " leaky_re_lu (LeakyReLU)     (None, 32, 32, 16)        0         \n",
      "                                                                 \n",
      " conv2d_1 (Conv2D)           (None, 32, 32, 32)        4640      \n",
      "                                                                 \n",
      " leaky_re_lu_1 (LeakyReLU)   (None, 32, 32, 32)        0         \n",
      "                                                                 \n",
      " max_pooling2d (MaxPooling2D  (None, 16, 16, 32)       0         \n",
      " )                                                               \n",
      "                                                                 \n",
      " flatten (Flatten)           (None, 8192)              0         \n",
      "                                                                 \n",
      " dense (Dense)               (None, 32)                262176    \n",
      "                                                                 \n",
      " leaky_re_lu_2 (LeakyReLU)   (None, 32)                0         \n",
      "                                                                 \n",
      " dense_1 (Dense)             (None, 10)                330       \n",
      "                                                                 \n",
      "=================================================================\n",
      "Total params: 267,306\n",
      "Trainable params: 267,306\n",
      "Non-trainable params: 0\n",
      "_________________________________________________________________\n"
     ]
    }
   ],
   "source": [
    "# Print the model summary\n",
    "model_1.summary()"
   ]
  },
  {
   "cell_type": "markdown",
   "metadata": {},
   "source": [
    "#### Fit the model on the training data with a validation split of 0.2, batch size = 32, verbose = 1, and epochs = 20. Store the model building history to use later for visualization."
   ]
  },
  {
   "cell_type": "code",
   "execution_count": 16,
   "metadata": {
    "colab": {
     "base_uri": "https://localhost:8080/"
    },
    "id": "3Fy3Dif_zcCk",
    "outputId": "3dfb4566-3e76-46df-a82c-bb1b965438f3"
   },
   "outputs": [
    {
     "name": "stdout",
     "output_type": "stream",
     "text": [
      "Epoch 1/20\n",
      "1050/1050 [==============================] - 36s 34ms/step - loss: 1.1286 - accuracy: 0.6266 - val_loss: 0.6166 - val_accuracy: 0.8221\n",
      "Epoch 2/20\n",
      "1050/1050 [==============================] - 36s 34ms/step - loss: 0.5372 - accuracy: 0.8446 - val_loss: 0.5260 - val_accuracy: 0.8449\n",
      "Epoch 3/20\n",
      "1050/1050 [==============================] - 36s 34ms/step - loss: 0.4472 - accuracy: 0.8706 - val_loss: 0.4937 - val_accuracy: 0.8570\n",
      "Epoch 4/20\n",
      "1050/1050 [==============================] - 36s 34ms/step - loss: 0.3882 - accuracy: 0.8866 - val_loss: 0.4753 - val_accuracy: 0.8608\n",
      "Epoch 5/20\n",
      "1050/1050 [==============================] - 36s 34ms/step - loss: 0.3393 - accuracy: 0.9002 - val_loss: 0.4694 - val_accuracy: 0.8649\n",
      "Epoch 6/20\n",
      "1050/1050 [==============================] - 36s 34ms/step - loss: 0.2998 - accuracy: 0.9107 - val_loss: 0.4555 - val_accuracy: 0.8726\n",
      "Epoch 7/20\n",
      "1050/1050 [==============================] - 36s 34ms/step - loss: 0.2675 - accuracy: 0.9195 - val_loss: 0.4685 - val_accuracy: 0.8739\n",
      "Epoch 8/20\n",
      "1050/1050 [==============================] - 36s 34ms/step - loss: 0.2361 - accuracy: 0.9282 - val_loss: 0.4859 - val_accuracy: 0.8758\n",
      "Epoch 9/20\n",
      "1050/1050 [==============================] - 36s 34ms/step - loss: 0.2123 - accuracy: 0.9353 - val_loss: 0.5018 - val_accuracy: 0.8652\n",
      "Epoch 10/20\n",
      "1050/1050 [==============================] - 36s 34ms/step - loss: 0.1935 - accuracy: 0.9403 - val_loss: 0.5241 - val_accuracy: 0.8668\n",
      "Epoch 11/20\n",
      "1050/1050 [==============================] - 36s 34ms/step - loss: 0.1677 - accuracy: 0.9472 - val_loss: 0.5776 - val_accuracy: 0.8707\n",
      "Epoch 12/20\n",
      "1050/1050 [==============================] - 36s 34ms/step - loss: 0.1520 - accuracy: 0.9545 - val_loss: 0.5753 - val_accuracy: 0.8649\n",
      "Epoch 13/20\n",
      "1050/1050 [==============================] - 36s 34ms/step - loss: 0.1359 - accuracy: 0.9590 - val_loss: 0.6002 - val_accuracy: 0.8679\n",
      "Epoch 14/20\n",
      "1050/1050 [==============================] - 36s 34ms/step - loss: 0.1232 - accuracy: 0.9617 - val_loss: 0.6557 - val_accuracy: 0.8608\n",
      "Epoch 15/20\n",
      "1050/1050 [==============================] - 36s 34ms/step - loss: 0.1112 - accuracy: 0.9648 - val_loss: 0.6801 - val_accuracy: 0.8680\n",
      "Epoch 16/20\n",
      "1050/1050 [==============================] - 36s 34ms/step - loss: 0.0984 - accuracy: 0.9693 - val_loss: 0.7259 - val_accuracy: 0.8565\n",
      "Epoch 17/20\n",
      "1050/1050 [==============================] - 36s 34ms/step - loss: 0.0959 - accuracy: 0.9692 - val_loss: 0.7252 - val_accuracy: 0.8688\n",
      "Epoch 18/20\n",
      "1050/1050 [==============================] - 36s 34ms/step - loss: 0.0797 - accuracy: 0.9755 - val_loss: 0.7596 - val_accuracy: 0.8654\n",
      "Epoch 19/20\n",
      "1050/1050 [==============================] - 36s 34ms/step - loss: 0.0803 - accuracy: 0.9742 - val_loss: 0.7935 - val_accuracy: 0.8629\n",
      "Epoch 20/20\n",
      "1050/1050 [==============================] - 36s 34ms/step - loss: 0.0701 - accuracy: 0.9780 - val_loss: 0.8200 - val_accuracy: 0.8682\n"
     ]
    }
   ],
   "source": [
    "# Fit the model\n",
    "\n",
    "# Splitting the dataset into the Training and Validation set.\n",
    "X_train_split, X_val_split, y_train_split, y_val_split = train_test_split(\n",
    "    X_train, y_train,\n",
    "    test_size = 0.2, random_state = 42, stratify = y_train)\n",
    "\n",
    "# Fit to be tied, now we fit furiously without out GPU, Grrr...\n",
    "history_model_1 = model_1.fit(\n",
    "    X_train_split, y_train_split,\n",
    "    validation_data=(X_val_split, y_val_split), batch_size = 32, verbose = 1, epochs=20)"
   ]
  },
  {
   "cell_type": "markdown",
   "metadata": {
    "id": "tKOckG-KPyLg",
    "tags": []
   },
   "source": [
    "### **Plotting the validation and training accuracies**"
   ]
  },
  {
   "cell_type": "markdown",
   "metadata": {
    "id": "JPzfIf9kKDNw"
   },
   "source": [
    "### **Question 4: Write your observations on the below plot. (2 Marks)**"
   ]
  },
  {
   "cell_type": "code",
   "execution_count": 18,
   "metadata": {
    "colab": {
     "base_uri": "https://localhost:8080/",
     "height": 497
    },
    "id": "lt77zgGMP4yw",
    "outputId": "97eec6d3-4548-42a3-b93c-98e565a41250"
   },
   "outputs": [
    {
     "data": {
      "image/png": "[encoded data removed]",
      "text/plain": [
       "<Figure size 800x800 with 1 Axes>"
      ]
     },
     "metadata": {},
     "output_type": "display_data"
    },
    {
     "name": "stdout",
     "output_type": "stream",
     "text": [
      "263/263 - 3s - loss: 0.8200 - accuracy: 0.8682 - 3s/epoch - 11ms/step\n",
      "[0.8199825286865234, 0.8682143092155457]\n"
     ]
    }
   ],
   "source": [
    "# Plotting the accuracies\n",
    "dict_hist = history_model_1.history\n",
    "list_ep = [i for i in range(1, 21)]\n",
    "plt.figure(figsize = (8, 8))\n",
    "plt.plot(list_ep, dict_hist['accuracy'], ls = '--', label = 'accuracy')\n",
    "plt.plot(list_ep, dict_hist['val_accuracy'], ls = '--', label = 'val_accuracy')\n",
    "plt.ylabel('Accuracy')\n",
    "plt.xlabel('Epochs')\n",
    "plt.legend()\n",
    "plt.show()\n",
    "\n",
    "# Printing results\n",
    "\n",
    "# Don't do this! \n",
    "#accuracy_1 = model_1.evaluate(X_test, y_test, verbose = 2) #  We don't want to peek into the test set yet.\n",
    "\n",
    "# We can do this.\n",
    "accuracy_1 = model_1.evaluate(X_val_split, y_val_split, verbose = 2)\n",
    "print(accuracy_1)"
   ]
  },
  {
   "cell_type": "markdown",
   "metadata": {
    "id": "pGBbQpLONX7k",
    "jp-MarkdownHeadingCollapsed": true,
    "tags": []
   },
   "source": [
    "**Observations:**\n",
    "I'm sort of doing this backwards by doing the CNN before the ANN, but I'm channeling François Chollet.\n",
    "\n",
    "Unfortunately we couldn't untilize our GPU due to low amount memory present on the card, so we are using a 4-core Xeon CPU.\n",
    "\n",
    "Running this CNN model on the CPU took 34ms/step which is significantly better than the same model run on Colab.  \n",
    "\n",
    "Our validation accurary is nearly 87% which seems pretty good as a initial benchmark."
   ]
  },
  {
   "cell_type": "markdown",
   "metadata": {
    "id": "z0qgLMBZm5-K"
   },
   "source": [
    "Let's build another model and see if we can get a better model with generalized performance.\n",
    "\n",
    "First, we need to clear the previous model's history from the Keras backend. Also, let's fix the seed again after clearing the backend."
   ]
  },
  {
   "cell_type": "code",
   "execution_count": 19,
   "metadata": {
    "id": "y98BpLxsok_H"
   },
   "outputs": [
    {
     "data": {
      "text/plain": [
       "9531"
      ]
     },
     "execution_count": 19,
     "metadata": {},
     "output_type": "execute_result"
    }
   ],
   "source": [
    "# Clearing backend\n",
    "from tensorflow.keras import backend\n",
    "backend.clear_session()\n",
    "\n",
    "# Do garbage collection\n",
    "gc.collect()"
   ]
  },
  {
   "cell_type": "code",
   "execution_count": 20,
   "metadata": {
    "id": "HbKi93HTolGW"
   },
   "outputs": [],
   "source": [
    "# Fixing the seed for random number generators\n",
    "np.random.seed(42)\n",
    "\n",
    "import random\n",
    "random.seed(42)\n",
    "tf.random.set_seed(42)"
   ]
  },
  {
   "cell_type": "markdown",
   "metadata": {
    "id": "lT6o3TIKuCtk"
   },
   "source": [
    "### **Second Model Architecture**\n",
    "\n",
    "- Write a function that returns a sequential model with the following architecture:\n",
    " - First Convolutional layer with **16 filters and the kernel size of 3x3**. Use the **'same' padding** and provide the **input shape = (32, 32, 1)**\n",
    " - Add a **LeakyRelu layer** with the **slope equal to 0.1**\n",
    " - Second Convolutional layer with **32 filters and the kernel size of 3x3 with 'same' padding**\n",
    " - Add **LeakyRelu** with the **slope equal to 0.1**\n",
    " - Add a **max-pooling layer** with a **pool size of 2x2**\n",
    " - Add a **BatchNormalization layer**\n",
    " - Third Convolutional layer with **32 filters and the kernel size of 3x3 with 'same' padding**\n",
    " - Add a **LeakyRelu layer with the slope equal to 0.1**\n",
    " - Fourth Convolutional layer **64 filters and the kernel size of 3x3 with 'same' padding** \n",
    " - Add a **LeakyRelu layer with the slope equal to 0.1**\n",
    " - Add a **max-pooling layer** with a **pool size of 2x2**\n",
    " - Add a **BatchNormalization layer**\n",
    " - **Flatten** the output from the previous layer\n",
    " - Add a **dense layer with 32 nodes**\n",
    " - Add a **LeakyRelu layer with the slope equal to 0.1**\n",
    " - Add a **dropout layer with the rate equal to 0.5**\n",
    " - Add the final **output layer with nodes equal to the number of classes, i.e., 10** and **'softmax' as the activation function**\n",
    " - Compile the model with the **categorical_crossentropy loss, adam optimizers (learning_rate = 0.001), and metric equal to 'accuracy'**. Do not fit the model here, just return the compiled model.\n",
    "- Call the function cnn_model_2 and store the model in a new variable.\n",
    "- Print the summary of the model.\n",
    "- Fit the model on the train data with a **validation split of 0.2, batch size = 128, verbose = 1, and epochs = 30**. Store the model building history to use later for visualization."
   ]
  },
  {
   "cell_type": "markdown",
   "metadata": {
    "id": "y5IBLS1eKDNy"
   },
   "source": [
    "### **Question 5: Build and train the second CNN model as per the above mentioned architecture. (10 Marks)**"
   ]
  },
  {
   "cell_type": "code",
   "execution_count": 21,
   "metadata": {
    "id": "EEPYLFIPnSDP"
   },
   "outputs": [],
   "source": [
    "def cnn_model_2():\n",
    "    # Define the model\n",
    "    model = Sequential() \n",
    "    \n",
    "    # Add layers as per the architecture mentioned above in the same sequence\n",
    "    \n",
    "    # First Convolutional Block\n",
    "    model.add(Conv2D(16, (3, 3), input_shape = (32, 32, 1), padding = 'same'))\n",
    "    model.add(LeakyReLU(0.1))\n",
    "    \n",
    "    # Second Convolutional Block\n",
    "    model.add(Conv2D(32, (3, 3), padding = 'same'))\n",
    "    model.add(LeakyReLU(0.1))\n",
    "    model.add(MaxPooling2D(2, 2))\n",
    "    model.add(BatchNormalization()) #Add a BatchNormalization layer\n",
    "    \n",
    "    \n",
    "    # Third Convolutional Block\n",
    "    model.add(Conv2D(32, (3, 3), padding = 'same'))\n",
    "    model.add(LeakyReLU(0.1))\n",
    "    \n",
    "    # Fourth Convolutional Block\n",
    "    model.add(Conv2D(64, (3, 3), padding = 'same'))\n",
    "    model.add(LeakyReLU(0.1))    \n",
    "    model.add(MaxPooling2D(2, 2))\n",
    "    model.add(BatchNormalization())\n",
    "    model.add(Flatten())\n",
    "\n",
    "    # Fully Connected Block\n",
    "    model.add(Dense(32))\n",
    "    model.add(LeakyReLU(0.1))\n",
    "    model.add(Dropout(0.5))\n",
    "    \n",
    "    # Classifier\n",
    "    model.add(Dense(10, activation = 'softmax')) # 10 classes for numberals 0-9\n",
    "\n",
    "    # Optimizer\n",
    "    adam = Adam(learning_rate = 0.001)\n",
    "   \n",
    "    # Compile the model\n",
    "    model.compile(optimizer='adam', loss='categorical_crossentropy', metrics=['accuracy'])\n",
    "    \n",
    "    return model"
   ]
  },
  {
   "cell_type": "code",
   "execution_count": 22,
   "metadata": {
    "id": "AKjDY4plnSFl"
   },
   "outputs": [],
   "source": [
    "# Build the model\n",
    "model_2 = cnn_model_2()"
   ]
  },
  {
   "cell_type": "code",
   "execution_count": 23,
   "metadata": {
    "colab": {
     "base_uri": "https://localhost:8080/"
    },
    "id": "gz_6SVrU2swZ",
    "outputId": "3248bb32-5c37-432e-b77f-16388958a991"
   },
   "outputs": [
    {
     "name": "stdout",
     "output_type": "stream",
     "text": [
      "Model: \"sequential\"\n",
      "_________________________________________________________________\n",
      " Layer (type)                Output Shape              Param #   \n",
      "=================================================================\n",
      " conv2d (Conv2D)             (None, 32, 32, 16)        160       \n",
      "                                                                 \n",
      " leaky_re_lu (LeakyReLU)     (None, 32, 32, 16)        0         \n",
      "                                                                 \n",
      " conv2d_1 (Conv2D)           (None, 32, 32, 32)        4640      \n",
      "                                                                 \n",
      " leaky_re_lu_1 (LeakyReLU)   (None, 32, 32, 32)        0         \n",
      "                                                                 \n",
      " max_pooling2d (MaxPooling2D  (None, 16, 16, 32)       0         \n",
      " )                                                               \n",
      "                                                                 \n",
      " batch_normalization (BatchN  (None, 16, 16, 32)       128       \n",
      " ormalization)                                                   \n",
      "                                                                 \n",
      " conv2d_2 (Conv2D)           (None, 16, 16, 32)        9248      \n",
      "                                                                 \n",
      " leaky_re_lu_2 (LeakyReLU)   (None, 16, 16, 32)        0         \n",
      "                                                                 \n",
      " conv2d_3 (Conv2D)           (None, 16, 16, 64)        18496     \n",
      "                                                                 \n",
      " leaky_re_lu_3 (LeakyReLU)   (None, 16, 16, 64)        0         \n",
      "                                                                 \n",
      " max_pooling2d_1 (MaxPooling  (None, 8, 8, 64)         0         \n",
      " 2D)                                                             \n",
      "                                                                 \n",
      " batch_normalization_1 (Batc  (None, 8, 8, 64)         256       \n",
      " hNormalization)                                                 \n",
      "                                                                 \n",
      " flatten (Flatten)           (None, 4096)              0         \n",
      "                                                                 \n",
      " dense (Dense)               (None, 32)                131104    \n",
      "                                                                 \n",
      " leaky_re_lu_4 (LeakyReLU)   (None, 32)                0         \n",
      "                                                                 \n",
      " dropout (Dropout)           (None, 32)                0         \n",
      "                                                                 \n",
      " dense_1 (Dense)             (None, 10)                330       \n",
      "                                                                 \n",
      "=================================================================\n",
      "Total params: 164,362\n",
      "Trainable params: 164,170\n",
      "Non-trainable params: 192\n",
      "_________________________________________________________________\n"
     ]
    }
   ],
   "source": [
    "# Print the summary\n",
    "model_2.summary()"
   ]
  },
  {
   "cell_type": "code",
   "execution_count": 24,
   "metadata": {
    "colab": {
     "base_uri": "https://localhost:8080/"
    },
    "id": "IQ0Sc4R-y-uu",
    "outputId": "7ba67f19-ccb6-4eac-f37d-339cd5497a56"
   },
   "outputs": [
    {
     "name": "stdout",
     "output_type": "stream",
     "text": [
      "Epoch 1/30\n",
      "263/263 [==============================] - 67s 253ms/step - loss: 1.3695 - accuracy: 0.5330 - val_loss: 1.7947 - val_accuracy: 0.3886\n",
      "Epoch 2/30\n",
      "263/263 [==============================] - 66s 252ms/step - loss: 0.6827 - accuracy: 0.7901 - val_loss: 0.6703 - val_accuracy: 0.8079\n",
      "Epoch 3/30\n",
      "263/263 [==============================] - 66s 252ms/step - loss: 0.5549 - accuracy: 0.8303 - val_loss: 0.5128 - val_accuracy: 0.8454\n",
      "Epoch 4/30\n",
      "263/263 [==============================] - 66s 253ms/step - loss: 0.4877 - accuracy: 0.8521 - val_loss: 0.4429 - val_accuracy: 0.8735\n",
      "Epoch 5/30\n",
      "263/263 [==============================] - 66s 252ms/step - loss: 0.4425 - accuracy: 0.8656 - val_loss: 0.4244 - val_accuracy: 0.8789\n",
      "Epoch 6/30\n",
      "263/263 [==============================] - 66s 252ms/step - loss: 0.3979 - accuracy: 0.8776 - val_loss: 0.4029 - val_accuracy: 0.8910\n",
      "Epoch 7/30\n",
      "263/263 [==============================] - 66s 253ms/step - loss: 0.3748 - accuracy: 0.8816 - val_loss: 0.3792 - val_accuracy: 0.8943\n",
      "Epoch 8/30\n",
      "263/263 [==============================] - 66s 253ms/step - loss: 0.3503 - accuracy: 0.8910 - val_loss: 0.3633 - val_accuracy: 0.8992\n",
      "Epoch 9/30\n",
      "263/263 [==============================] - 66s 252ms/step - loss: 0.3254 - accuracy: 0.8981 - val_loss: 0.4754 - val_accuracy: 0.8740\n",
      "Epoch 10/30\n",
      "263/263 [==============================] - 66s 252ms/step - loss: 0.3079 - accuracy: 0.9060 - val_loss: 0.3741 - val_accuracy: 0.9017\n",
      "Epoch 11/30\n",
      "263/263 [==============================] - 66s 253ms/step - loss: 0.2991 - accuracy: 0.9050 - val_loss: 0.3788 - val_accuracy: 0.9005\n",
      "Epoch 12/30\n",
      "263/263 [==============================] - 66s 253ms/step - loss: 0.2815 - accuracy: 0.9109 - val_loss: 0.3990 - val_accuracy: 0.8937\n",
      "Epoch 13/30\n",
      "263/263 [==============================] - 66s 253ms/step - loss: 0.2695 - accuracy: 0.9148 - val_loss: 0.3969 - val_accuracy: 0.9008\n",
      "Epoch 14/30\n",
      "263/263 [==============================] - 66s 253ms/step - loss: 0.2523 - accuracy: 0.9183 - val_loss: 0.4263 - val_accuracy: 0.9015\n",
      "Epoch 15/30\n",
      "263/263 [==============================] - 67s 253ms/step - loss: 0.2409 - accuracy: 0.9227 - val_loss: 0.3878 - val_accuracy: 0.9087\n",
      "Epoch 16/30\n",
      "263/263 [==============================] - 67s 253ms/step - loss: 0.2366 - accuracy: 0.9239 - val_loss: 0.3517 - val_accuracy: 0.9043\n",
      "Epoch 17/30\n",
      "263/263 [==============================] - 66s 253ms/step - loss: 0.2227 - accuracy: 0.9279 - val_loss: 0.3918 - val_accuracy: 0.9057\n",
      "Epoch 18/30\n",
      "263/263 [==============================] - 67s 253ms/step - loss: 0.2167 - accuracy: 0.9292 - val_loss: 0.4448 - val_accuracy: 0.8992\n",
      "Epoch 19/30\n",
      "263/263 [==============================] - 67s 254ms/step - loss: 0.2093 - accuracy: 0.9313 - val_loss: 0.5031 - val_accuracy: 0.8925\n",
      "Epoch 20/30\n",
      "263/263 [==============================] - 67s 253ms/step - loss: 0.2057 - accuracy: 0.9340 - val_loss: 0.3901 - val_accuracy: 0.9112\n",
      "Epoch 21/30\n",
      "263/263 [==============================] - 66s 252ms/step - loss: 0.1963 - accuracy: 0.9354 - val_loss: 0.5001 - val_accuracy: 0.8825\n",
      "Epoch 22/30\n",
      "263/263 [==============================] - 67s 253ms/step - loss: 0.1861 - accuracy: 0.9371 - val_loss: 0.4307 - val_accuracy: 0.9100\n",
      "Epoch 23/30\n",
      "263/263 [==============================] - 67s 253ms/step - loss: 0.1818 - accuracy: 0.9402 - val_loss: 0.4197 - val_accuracy: 0.9098\n",
      "Epoch 24/30\n",
      "263/263 [==============================] - 67s 253ms/step - loss: 0.1794 - accuracy: 0.9415 - val_loss: 0.4193 - val_accuracy: 0.9071\n",
      "Epoch 25/30\n",
      "263/263 [==============================] - 67s 253ms/step - loss: 0.1711 - accuracy: 0.9437 - val_loss: 0.4454 - val_accuracy: 0.9085\n",
      "Epoch 26/30\n",
      "263/263 [==============================] - 67s 253ms/step - loss: 0.1641 - accuracy: 0.9457 - val_loss: 0.4571 - val_accuracy: 0.9039\n",
      "Epoch 27/30\n",
      "263/263 [==============================] - 66s 253ms/step - loss: 0.1624 - accuracy: 0.9467 - val_loss: 0.4559 - val_accuracy: 0.9102\n",
      "Epoch 28/30\n",
      "263/263 [==============================] - 67s 253ms/step - loss: 0.1611 - accuracy: 0.9466 - val_loss: 0.4783 - val_accuracy: 0.9095\n",
      "Epoch 29/30\n",
      "263/263 [==============================] - 66s 253ms/step - loss: 0.1532 - accuracy: 0.9486 - val_loss: 0.4364 - val_accuracy: 0.9096\n",
      "Epoch 30/30\n",
      "263/263 [==============================] - 67s 253ms/step - loss: 0.1550 - accuracy: 0.9484 - val_loss: 0.4928 - val_accuracy: 0.9079\n"
     ]
    }
   ],
   "source": [
    "# Fit the model\n",
    "\n",
    "# We've already split the data so let's not repeat this...\n",
    "# Splitting the dataset into the Training and Validation set. \n",
    "# X_train_split, X_val_split, y_train_split, y_val_split = train_test_split(X_train, y_train, test_size = 0.2, random_state = 42, stratify = y_train)\n",
    "\n",
    "# Fit to be tied, now we fit furiously without out GPU, Grrr...\n",
    "history_model_2 = model_2.fit(\n",
    "    X_train_split, y_train_split,\n",
    "    validation_data=(X_val_split, y_val_split), batch_size = 128, verbose = 1, epochs=30)"
   ]
  },
  {
   "cell_type": "markdown",
   "metadata": {
    "id": "zKCdy59GKDN1"
   },
   "source": [
    "### **Plotting the validation and training accuracies**"
   ]
  },
  {
   "cell_type": "markdown",
   "metadata": {
    "id": "PyhUtMy3KDN1"
   },
   "source": [
    "### **Question 6: Write your observations on the below plot. (2 Marks)**"
   ]
  },
  {
   "cell_type": "code",
   "execution_count": 25,
   "metadata": {
    "colab": {
     "base_uri": "https://localhost:8080/",
     "height": 497
    },
    "id": "01ig6BrF1KVy",
    "outputId": "2c7bf5df-76cc-4675-f2c3-9b744675722c"
   },
   "outputs": [
    {
     "data": {
      "image/png": "[encoded data removed]",
      "text/plain": [
       "<Figure size 800x800 with 1 Axes>"
      ]
     },
     "metadata": {},
     "output_type": "display_data"
    },
    {
     "name": "stdout",
     "output_type": "stream",
     "text": [
      "263/263 - 5s - loss: 0.4928 - accuracy: 0.9079 - 5s/epoch - 20ms/step\n",
      "[0.4928285479545593, 0.9078571200370789]\n"
     ]
    }
   ],
   "source": [
    "# Plotting the accuracies\n",
    "dict_hist = history_model_2.history\n",
    "list_ep = [i for i in range(1, 31)]\n",
    "\n",
    "plt.figure(figsize = (8, 8))\n",
    "plt.plot(list_ep, dict_hist['accuracy'], ls = '--', label = 'accuracy')\n",
    "plt.plot(list_ep, dict_hist['val_accuracy'], ls = '--', label = 'val_accuracy')\n",
    "plt.ylabel('Accuracy')\n",
    "plt.xlabel('Epochs')\n",
    "plt.legend()\n",
    "plt.show()\n",
    "\n",
    "#Printing results\n",
    "accuracy_2 = model_2.evaluate(X_val_split, y_val_split, verbose = 2)\n",
    "print(accuracy_2)"
   ]
  },
  {
   "cell_type": "markdown",
   "metadata": {
    "id": "VPW1LlD61RDn"
   },
   "source": [
    "**Observations:**\n",
    "Our training accuracy is up from 87% to almost 92%.  The batch normalization and dropout layer has signifcantly improved the model. "
   ]
  },
  {
   "cell_type": "markdown",
   "metadata": {
    "id": "8kuXx9Bvu00f"
   },
   "source": [
    "## **Predictions on the test data**\n",
    "\n",
    "- Make predictions on the test set using the second model.\n",
    "- Print the obtained results using the classification report and the confusion matrix.\n",
    "- Final observations on the obtained results."
   ]
  },
  {
   "cell_type": "markdown",
   "metadata": {
    "id": "eHCRwRbgKDN2"
   },
   "source": [
    "### **Question 7: Make predictions on the test data using the second model. (1 Mark)** "
   ]
  },
  {
   "cell_type": "code",
   "execution_count": 26,
   "metadata": {
    "id": "xbWMEtTj5Ad0"
   },
   "outputs": [
    {
     "name": "stdout",
     "output_type": "stream",
     "text": [
      "563/563 [==============================] - 11s 20ms/step\n"
     ]
    }
   ],
   "source": [
    "# Make prediction on the test data using model_2 \n",
    "test_pred = model_2.predict(X_test)\n",
    "test_pred = np.argmax(test_pred, axis = -1)"
   ]
  },
  {
   "cell_type": "markdown",
   "metadata": {
    "id": "i3li8Ib08yts"
   },
   "source": [
    "**Note:** Earlier, we noticed that each entry of the target variable is a one-hot encoded vector, but to print the classification report and confusion matrix, we must convert each entry of y_test to a single label."
   ]
  },
  {
   "cell_type": "code",
   "execution_count": 27,
   "metadata": {
    "id": "NByu7uAQ8x9P"
   },
   "outputs": [],
   "source": [
    "# Converting each entry to single label from one-hot encoded vector\n",
    "y_test_hot = np.argmax(y_test, axis = -1) # We want to preserve y_test for code validation."
   ]
  },
  {
   "cell_type": "code",
   "execution_count": 28,
   "metadata": {},
   "outputs": [
    {
     "data": {
      "text/plain": [
       "((18000,), (18000,))"
      ]
     },
     "execution_count": 28,
     "metadata": {},
     "output_type": "execute_result"
    }
   ],
   "source": [
    "test_pred.shape, y_test_hot.shape"
   ]
  },
  {
   "cell_type": "markdown",
   "metadata": {
    "id": "aVCa-ysWKDN3"
   },
   "source": [
    "### **Question 8: Write your final observations on the performance of the model on the test data. (2 Marks)**"
   ]
  },
  {
   "cell_type": "code",
   "execution_count": 29,
   "metadata": {
    "colab": {
     "base_uri": "https://localhost:8080/",
     "height": 629
    },
    "id": "xRddeJ-3EHT1",
    "outputId": "da1d4503-6df6-4f4d-a0f2-aa1e5a38ccd4"
   },
   "outputs": [
    {
     "name": "stdout",
     "output_type": "stream",
     "text": [
      "              precision    recall  f1-score   support\n",
      "\n",
      "           0       0.93      0.94      0.93      1814\n",
      "           1       0.89      0.92      0.91      1828\n",
      "           2       0.93      0.92      0.92      1803\n",
      "           3       0.86      0.87      0.87      1719\n",
      "           4       0.91      0.93      0.92      1812\n",
      "           5       0.86      0.93      0.90      1768\n",
      "           6       0.91      0.88      0.90      1832\n",
      "           7       0.94      0.92      0.93      1808\n",
      "           8       0.92      0.89      0.90      1812\n",
      "           9       0.92      0.89      0.90      1804\n",
      "\n",
      "    accuracy                           0.91     18000\n",
      "   macro avg       0.91      0.91      0.91     18000\n",
      "weighted avg       0.91      0.91      0.91     18000\n",
      "\n"
     ]
    },
    {
     "data": {
      "image/png": "[encoded data removed]",
      "text/plain": [
       "<Figure size 800x500 with 2 Axes>"
      ]
     },
     "metadata": {},
     "output_type": "display_data"
    }
   ],
   "source": [
    "# Importing required functions\n",
    "from sklearn.metrics import classification_report\n",
    "from sklearn.metrics import confusion_matrix\n",
    "\n",
    "# Printing the classification report\n",
    "print(classification_report(y_test_hot, test_pred))\n",
    "\n",
    "# Plotting the heatmap using confusion matrix\n",
    "cm = confusion_matrix(y_test_hot, test_pred)\n",
    "\n",
    "plt.figure(figsize = (8, 5))\n",
    "sns.heatmap(cm, annot = True,  fmt = '.0f')\n",
    "plt.ylabel('Actual')\n",
    "plt.xlabel('Predicted')\n",
    "plt.show()"
   ]
  },
  {
   "cell_type": "markdown",
   "metadata": {
    "id": "DjErl4GA2u9s"
   },
   "source": [
    "**Final Observations:**\n",
    "\n",
    "Oh boy! This model took some computing power. The cooling fans sounded like a jet engine at take-off!!!\n",
    "```\n",
    "Core 0:       +83.0°C  (high = +80.0°C, crit = +100.0°C)\n",
    "Core 1:       +84.0°C  (high = +80.0°C, crit = +100.0°C)\n",
    "Core 2:       +80.0°C  (high = +80.0°C, crit = +100.0°C)\n",
    "Core 3:       +81.0°C  (high = +80.0°C, crit = +100.0°C)\n",
    "\n",
    "\"Aye, the haggis is in the fire for sure.\" --Scotty\n",
    "```\n",
    "\n",
    "At 253ms/step we are are starting see the limitation of our hardware and touch on real-world scaling issues with large datasets and features numbers.\n",
    "\n",
    "Honestly I'm suprise the model works this well!  The precision, recall and f1-score values where 92% which seems unreasonablity good considering the image quality of the visualized samples.  The next step might be to analyze the misclassified images and see if we gleen some understanding into how to improve the model.\n",
    "\n",
    "We cannot claim ourselves the Conqueror of Time and Death, as of yet."
   ]
  },
  {
   "cell_type": "markdown",
   "metadata": {},
   "source": [
    "# Summary and Conclusions"
   ]
  },
  {
   "cell_type": "markdown",
   "metadata": {},
   "source": [
    "# Appendix"
   ]
  },
  {
   "cell_type": "markdown",
   "metadata": {},
   "source": [
    "# Resources"
   ]
  }
 ],
 "metadata": {
  "accelerator": "GPU",
  "colab": {
   "collapsed_sections": [],
   "name": "CNN_Project_Solution_Notebook_SVHN.ipynb",
   "provenance": []
  },
  "kernelspec": {
   "display_name": "Python 3 (ipykernel)",
   "language": "python",
   "name": "python3"
  },
  "language_info": {
   "codemirror_mode": {
    "name": "ipython",
    "version": 3
   },
   "file_extension": ".py",
   "mimetype": "text/x-python",
   "name": "python",
   "nbconvert_exporter": "python",
   "pygments_lexer": "ipython3",
   "version": "3.10.4"
  }
 },
 "nbformat": 4,
 "nbformat_minor": 4
}
